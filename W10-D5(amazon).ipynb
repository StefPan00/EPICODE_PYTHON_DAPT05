{
 "cells": [
  {
   "cell_type": "code",
   "execution_count": null,
   "id": "671aa2a6-8ac9-4cd6-b310-f68acb8d3b1d",
   "metadata": {},
   "outputs": [],
   "source": [
    "#BEGINNER DATASETS\n",
    "#selezioniamo amazon.csv, un dataset contenente una serie di recensioni su Amazon."
   ]
  },
  {
   "cell_type": "code",
   "execution_count": 2,
   "id": "8581f764-5bd9-4655-a35f-2f9b23b0b8c6",
   "metadata": {},
   "outputs": [
    {
     "name": "stdout",
     "output_type": "stream",
     "text": [
      "                                          reviewText  Positive\n",
      "0  This is a one of the best apps acording to a b...         1\n",
      "1  This is a pretty good version of the game for ...         1\n",
      "2  this is a really cool game. there are a bunch ...         1\n",
      "3  This is a silly game and can be frustrating, b...         1\n",
      "4  This is a terrific game on any pad. Hrs of fun...         1\n"
     ]
    }
   ],
   "source": [
    "import pandas as pd\n",
    "file_path=\"C:/Users/PANTANO/Desktop/Data Analyst/LEZIONI/3 Terzo Modulo Python/amazon.csv\"\n",
    "df = pd.read_csv(file_path)"
   ]
  },
  {
   "cell_type": "code",
   "execution_count": 7,
   "id": "53b550b4-e914-4b6b-bc2a-f99eca20de29",
   "metadata": {},
   "outputs": [
    {
     "name": "stdout",
     "output_type": "stream",
     "text": [
      "(20000, 2)\n",
      "reviewText    object\n",
      "Positive       int64\n",
      "dtype: object\n"
     ]
    }
   ],
   "source": [
    "#Valutiamo la dimensione del dataset\n",
    "print(df.shape)\n",
    "print(df.info)\n",
    "print(df.dtypes)"
   ]
  },
  {
   "cell_type": "code",
   "execution_count": 3,
   "id": "0697b8fe-4607-4562-808d-56e453d8bfeb",
   "metadata": {},
   "outputs": [
    {
     "data": {
      "text/html": [
       "<div>\n",
       "<style scoped>\n",
       "    .dataframe tbody tr th:only-of-type {\n",
       "        vertical-align: middle;\n",
       "    }\n",
       "\n",
       "    .dataframe tbody tr th {\n",
       "        vertical-align: top;\n",
       "    }\n",
       "\n",
       "    .dataframe thead th {\n",
       "        text-align: right;\n",
       "    }\n",
       "</style>\n",
       "<table border=\"1\" class=\"dataframe\">\n",
       "  <thead>\n",
       "    <tr style=\"text-align: right;\">\n",
       "      <th></th>\n",
       "      <th>reviewText</th>\n",
       "      <th>Positive</th>\n",
       "    </tr>\n",
       "  </thead>\n",
       "  <tbody>\n",
       "    <tr>\n",
       "      <th>2390</th>\n",
       "      <td>I deleted this from my kindle fire because it ...</td>\n",
       "      <td>0</td>\n",
       "    </tr>\n",
       "    <tr>\n",
       "      <th>3225</th>\n",
       "      <td>This is one of the must intrusive apps I have ...</td>\n",
       "      <td>0</td>\n",
       "    </tr>\n",
       "    <tr>\n",
       "      <th>18703</th>\n",
       "      <td>because it has talking tom the cat 1 and 2.and...</td>\n",
       "      <td>0</td>\n",
       "    </tr>\n",
       "    <tr>\n",
       "      <th>3105</th>\n",
       "      <td>I was anticipating a more active game, but it ...</td>\n",
       "      <td>0</td>\n",
       "    </tr>\n",
       "    <tr>\n",
       "      <th>14676</th>\n",
       "      <td>Game opens then force closes as soon as you hi...</td>\n",
       "      <td>0</td>\n",
       "    </tr>\n",
       "    <tr>\n",
       "      <th>14243</th>\n",
       "      <td>I had downloaded many folder management Apps b...</td>\n",
       "      <td>1</td>\n",
       "    </tr>\n",
       "    <tr>\n",
       "      <th>18255</th>\n",
       "      <td>The controls for this game are absolutely horr...</td>\n",
       "      <td>0</td>\n",
       "    </tr>\n",
       "    <tr>\n",
       "      <th>13860</th>\n",
       "      <td>This app has a beautiful interface, is very we...</td>\n",
       "      <td>1</td>\n",
       "    </tr>\n",
       "    <tr>\n",
       "      <th>5367</th>\n",
       "      <td>and doesn't work well, case of free not such a...</td>\n",
       "      <td>0</td>\n",
       "    </tr>\n",
       "    <tr>\n",
       "      <th>12558</th>\n",
       "      <td>The controls are adjustable. Check the options...</td>\n",
       "      <td>1</td>\n",
       "    </tr>\n",
       "  </tbody>\n",
       "</table>\n",
       "</div>"
      ],
      "text/plain": [
       "                                              reviewText  Positive\n",
       "2390   I deleted this from my kindle fire because it ...         0\n",
       "3225   This is one of the must intrusive apps I have ...         0\n",
       "18703  because it has talking tom the cat 1 and 2.and...         0\n",
       "3105   I was anticipating a more active game, but it ...         0\n",
       "14676  Game opens then force closes as soon as you hi...         0\n",
       "14243  I had downloaded many folder management Apps b...         1\n",
       "18255  The controls for this game are absolutely horr...         0\n",
       "13860  This app has a beautiful interface, is very we...         1\n",
       "5367   and doesn't work well, case of free not such a...         0\n",
       "12558  The controls are adjustable. Check the options...         1"
      ]
     },
     "execution_count": 3,
     "metadata": {},
     "output_type": "execute_result"
    }
   ],
   "source": [
    "# visualizziamo 10 righe a caso\n",
    "df.sample(10)"
   ]
  },
  {
   "cell_type": "code",
   "execution_count": 11,
   "id": "df19aea1-c0aa-4151-a961-343ff2842b0c",
   "metadata": {},
   "outputs": [
    {
     "name": "stdout",
     "output_type": "stream",
     "text": [
      "conteggio positivi(1) negativi(0): Positive\n",
      "1    15233\n",
      "0     4767\n",
      "Name: count, dtype: int64\n",
      "Dataset non bilanciato\n"
     ]
    }
   ],
   "source": [
    "#Osserviamo quali sono i nomi di colonna--> da info \n",
    "#Il dataset è bilanciato, ovvero, il numero di recensioni positive è uguale a quello delle negative, oppure no?\n",
    "conteggio=df.iloc[:,1].value_counts()\n",
    "print(\"conteggio positivi(1) negativi(0):\", conteggio)\n",
    "\n",
    "if conteggio[1] == conteggio[0]:\n",
    "    print(\"Dataset bilancato\")\n",
    "else:\n",
    "    print(\"Dataset non bilanciato\")"
   ]
  }
 ],
 "metadata": {
  "kernelspec": {
   "display_name": "Python 3 (ipykernel)",
   "language": "python",
   "name": "python3"
  },
  "language_info": {
   "codemirror_mode": {
    "name": "ipython",
    "version": 3
   },
   "file_extension": ".py",
   "mimetype": "text/x-python",
   "name": "python",
   "nbconvert_exporter": "python",
   "pygments_lexer": "ipython3",
   "version": "3.11.7"
  }
 },
 "nbformat": 4,
 "nbformat_minor": 5
}
