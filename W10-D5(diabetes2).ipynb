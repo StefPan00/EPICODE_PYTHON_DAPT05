{
 "cells": [
  {
   "cell_type": "code",
   "execution_count": null,
   "id": "cf7afb95-db84-4c51-bc74-84a8cb1b4110",
   "metadata": {},
   "outputs": [],
   "source": [
    "#Datset diabetes"
   ]
  },
  {
   "cell_type": "code",
   "execution_count": 2,
   "id": "135043fb-fafc-490f-a548-4a993ee7233f",
   "metadata": {},
   "outputs": [],
   "source": [
    "import pandas as pd\n",
    "file_path=\"C:/Users/PANTANO/Desktop/Data Analyst/LEZIONI/3 Terzo Modulo Python/diabetes.csv\"\n",
    "df = pd.read_csv(file_path)"
   ]
  },
  {
   "cell_type": "code",
   "execution_count": 3,
   "id": "7bb0ca3d-97c3-49d4-a079-6204c05efc24",
   "metadata": {},
   "outputs": [
    {
     "data": {
      "text/plain": [
       "(768, 9)"
      ]
     },
     "execution_count": 3,
     "metadata": {},
     "output_type": "execute_result"
    }
   ],
   "source": [
    "df.shape"
   ]
  },
  {
   "cell_type": "code",
   "execution_count": 11,
   "id": "da57b4b1-2032-4d67-9e86-4a80f3df3a83",
   "metadata": {},
   "outputs": [
    {
     "data": {
      "text/plain": [
       "Index(['Number of times pregnant',\n",
       "       'Plasma glucose concentration a 2 hours in an oral glucose tolerance test',\n",
       "       'Diastolic blood pressure (mm Hg)', 'Triceps skin fold thickness (mm)',\n",
       "       '2-Hour serum insulin (mu U/ml)',\n",
       "       'Body mass index (weight in kg/(height in m)^2)',\n",
       "       'Diabetes pedigree function', 'Age (years)', 'Class variable'],\n",
       "      dtype='object')"
      ]
     },
     "execution_count": 11,
     "metadata": {},
     "output_type": "execute_result"
    }
   ],
   "source": [
    "df.columns"
   ]
  },
  {
   "cell_type": "code",
   "execution_count": 5,
   "id": "4ca9ffb8-efd5-480f-a313-343a44f1f0c2",
   "metadata": {},
   "outputs": [
    {
     "data": {
      "text/plain": [
       "Number of times pregnant                                                      int64\n",
       "Plasma glucose concentration a 2 hours in an oral glucose tolerance test      int64\n",
       "Diastolic blood pressure (mm Hg)                                              int64\n",
       "Triceps skin fold thickness (mm)                                              int64\n",
       "2-Hour serum insulin (mu U/ml)                                                int64\n",
       "Body mass index (weight in kg/(height in m)^2)                              float64\n",
       "Diabetes pedigree function                                                  float64\n",
       "Age (years)                                                                   int64\n",
       "Class variable                                                                int64\n",
       "dtype: object"
      ]
     },
     "execution_count": 5,
     "metadata": {},
     "output_type": "execute_result"
    }
   ],
   "source": [
    "df.dtypes"
   ]
  },
  {
   "cell_type": "code",
   "execution_count": 6,
   "id": "d0463144-bd8e-4e17-8283-258ae1e0bdcc",
   "metadata": {},
   "outputs": [
    {
     "data": {
      "text/html": [
       "<div>\n",
       "<style scoped>\n",
       "    .dataframe tbody tr th:only-of-type {\n",
       "        vertical-align: middle;\n",
       "    }\n",
       "\n",
       "    .dataframe tbody tr th {\n",
       "        vertical-align: top;\n",
       "    }\n",
       "\n",
       "    .dataframe thead th {\n",
       "        text-align: right;\n",
       "    }\n",
       "</style>\n",
       "<table border=\"1\" class=\"dataframe\">\n",
       "  <thead>\n",
       "    <tr style=\"text-align: right;\">\n",
       "      <th></th>\n",
       "      <th>Number of times pregnant</th>\n",
       "      <th>Plasma glucose concentration a 2 hours in an oral glucose tolerance test</th>\n",
       "      <th>Diastolic blood pressure (mm Hg)</th>\n",
       "      <th>Triceps skin fold thickness (mm)</th>\n",
       "      <th>2-Hour serum insulin (mu U/ml)</th>\n",
       "      <th>Body mass index (weight in kg/(height in m)^2)</th>\n",
       "      <th>Diabetes pedigree function</th>\n",
       "      <th>Age (years)</th>\n",
       "      <th>Class variable</th>\n",
       "    </tr>\n",
       "  </thead>\n",
       "  <tbody>\n",
       "    <tr>\n",
       "      <th>0</th>\n",
       "      <td>6</td>\n",
       "      <td>148</td>\n",
       "      <td>72</td>\n",
       "      <td>35</td>\n",
       "      <td>0</td>\n",
       "      <td>33.6</td>\n",
       "      <td>0.627</td>\n",
       "      <td>50</td>\n",
       "      <td>1</td>\n",
       "    </tr>\n",
       "    <tr>\n",
       "      <th>1</th>\n",
       "      <td>1</td>\n",
       "      <td>85</td>\n",
       "      <td>66</td>\n",
       "      <td>29</td>\n",
       "      <td>0</td>\n",
       "      <td>26.6</td>\n",
       "      <td>0.351</td>\n",
       "      <td>31</td>\n",
       "      <td>0</td>\n",
       "    </tr>\n",
       "    <tr>\n",
       "      <th>2</th>\n",
       "      <td>8</td>\n",
       "      <td>183</td>\n",
       "      <td>64</td>\n",
       "      <td>0</td>\n",
       "      <td>0</td>\n",
       "      <td>23.3</td>\n",
       "      <td>0.672</td>\n",
       "      <td>32</td>\n",
       "      <td>1</td>\n",
       "    </tr>\n",
       "    <tr>\n",
       "      <th>3</th>\n",
       "      <td>1</td>\n",
       "      <td>89</td>\n",
       "      <td>66</td>\n",
       "      <td>23</td>\n",
       "      <td>94</td>\n",
       "      <td>28.1</td>\n",
       "      <td>0.167</td>\n",
       "      <td>21</td>\n",
       "      <td>0</td>\n",
       "    </tr>\n",
       "    <tr>\n",
       "      <th>4</th>\n",
       "      <td>0</td>\n",
       "      <td>137</td>\n",
       "      <td>40</td>\n",
       "      <td>35</td>\n",
       "      <td>168</td>\n",
       "      <td>43.1</td>\n",
       "      <td>2.288</td>\n",
       "      <td>33</td>\n",
       "      <td>1</td>\n",
       "    </tr>\n",
       "  </tbody>\n",
       "</table>\n",
       "</div>"
      ],
      "text/plain": [
       "   Number of times pregnant  \\\n",
       "0                         6   \n",
       "1                         1   \n",
       "2                         8   \n",
       "3                         1   \n",
       "4                         0   \n",
       "\n",
       "   Plasma glucose concentration a 2 hours in an oral glucose tolerance test  \\\n",
       "0                                                148                          \n",
       "1                                                 85                          \n",
       "2                                                183                          \n",
       "3                                                 89                          \n",
       "4                                                137                          \n",
       "\n",
       "   Diastolic blood pressure (mm Hg)  Triceps skin fold thickness (mm)  \\\n",
       "0                                72                                35   \n",
       "1                                66                                29   \n",
       "2                                64                                 0   \n",
       "3                                66                                23   \n",
       "4                                40                                35   \n",
       "\n",
       "   2-Hour serum insulin (mu U/ml)  \\\n",
       "0                               0   \n",
       "1                               0   \n",
       "2                               0   \n",
       "3                              94   \n",
       "4                             168   \n",
       "\n",
       "   Body mass index (weight in kg/(height in m)^2)  Diabetes pedigree function  \\\n",
       "0                                            33.6                       0.627   \n",
       "1                                            26.6                       0.351   \n",
       "2                                            23.3                       0.672   \n",
       "3                                            28.1                       0.167   \n",
       "4                                            43.1                       2.288   \n",
       "\n",
       "   Age (years)  Class variable  \n",
       "0           50               1  \n",
       "1           31               0  \n",
       "2           32               1  \n",
       "3           21               0  \n",
       "4           33               1  "
      ]
     },
     "execution_count": 6,
     "metadata": {},
     "output_type": "execute_result"
    }
   ],
   "source": [
    "df.head(5)"
   ]
  },
  {
   "cell_type": "code",
   "execution_count": 19,
   "id": "538cbc43-70f5-41a9-8167-310cabf75a47",
   "metadata": {},
   "outputs": [
    {
     "name": "stdout",
     "output_type": "stream",
     "text": [
      "I pazienti hanno età media: 33.24\n",
      "I pazienti hanno peso medio: 31.99\n",
      "I pazienti hanno DAP media: 69.11\n",
      "Class variable\n",
      "0    500\n",
      "1    268\n",
      "Name: count, dtype: int64\n"
     ]
    }
   ],
   "source": [
    "#Stampiamo dei descrittori statistici del dataset\n",
    "print(\"I pazienti hanno età media:\", round(df['Age (years)'].mean(),2))\n",
    "print(\"I pazienti hanno peso medio:\", round(df['Body mass index (weight in kg/(height in m)^2)'].mean(),2))\n",
    "print(\"I pazienti hanno DAP media:\", round(df['Diastolic blood pressure (mm Hg)'].mean(),2))\n",
    "\n",
    "conteggio=df.iloc[:,8].value_counts()\n",
    "print(conteggio)"
   ]
  },
  {
   "cell_type": "code",
   "execution_count": 30,
   "id": "35391887-6f18-4c6a-a23c-292eb5a9c929",
   "metadata": {},
   "outputs": [],
   "source": [
    "#Selezioniamo i dati relativi a diverse fasce di età: <20, 20-30, 30-40, 40-50, >50;\n",
    "eta_20=df[df['Age (years)']<=20]\n",
    "eta_20_30=df[(df['Age (years)']>20) & (df['Age (years)']<30)]\n",
    "eta_30_40=df[(df['Age (years)']>30) & (df['Age (years)']<40)]\n",
    "eta_40_50=df[(df['Age (years)']>40) & (df['Age (years)']<50)]\n",
    "eta_50=df[df['Age (years)']>=50]"
   ]
  },
  {
   "cell_type": "code",
   "execution_count": 41,
   "id": "94c60805-d485-44a7-96a0-bcdebbf25f03",
   "metadata": {},
   "outputs": [
    {
     "name": "stdout",
     "output_type": "stream",
     "text": [
      "Media DAP, eta minore di 20 anni: nan\n",
      "Media DAP, eta tra 20 e 30 anni: 65.35\n",
      "Media DAP, eta tra 30 e 40 anni: 70.37\n",
      "Media DAP, eta tra 40 e 50 anni: 74.52\n",
      "Media DAP, eta maggiore di 50 anni: 78.37\n"
     ]
    }
   ],
   "source": [
    "print(\"Media DAP, eta minore di 20 anni:\", eta_20['Diastolic blood pressure (mm Hg)'].mean())\n",
    "print(\"Media DAP, eta tra 20 e 30 anni:\", round(eta_20_30['Diastolic blood pressure (mm Hg)'].mean(),2))\n",
    "print(\"Media DAP, eta tra 30 e 40 anni:\", round(eta_30_40['Diastolic blood pressure (mm Hg)'].mean(),2))\n",
    "print(\"Media DAP, eta tra 40 e 50 anni:\", round(eta_40_50['Diastolic blood pressure (mm Hg)'].mean(),2))\n",
    "print(\"Media DAP, eta maggiore di 50 anni:\", round(eta_50['Diastolic blood pressure (mm Hg)'].mean(),2))"
   ]
  },
  {
   "cell_type": "code",
   "execution_count": 48,
   "id": "8789546e-7004-41e5-9269-1045d9df396b",
   "metadata": {},
   "outputs": [
    {
     "name": "stdout",
     "output_type": "stream",
     "text": [
      "AgeGroup\n",
      "<20            NaN\n",
      "20-30    65.348485\n",
      "30-40    69.666667\n",
      "40-50    73.940678\n",
      ">50      78.370787\n",
      "Name: Diastolic blood pressure (mm Hg), dtype: float64\n"
     ]
    }
   ],
   "source": [
    "bins = [0, 20, 30, 40, 50, float('inf')]  \n",
    "labels = ['<20', '20-30', '30-40', '40-50', '>50'] \n",
    "\n",
    "df['AgeGroup'] = pd.cut(df['Age (years)'], bins=bins, labels=labels, right=False)\n",
    "\n",
    "media_dap_fascia_eta = df.groupby('AgeGroup', observed=False)['Diastolic blood pressure (mm Hg)'].mean()\n",
    "print(media_dap_fascia_eta)"
   ]
  },
  {
   "cell_type": "code",
   "execution_count": 44,
   "id": "4183a4fe-4e01-4887-991f-e9cf3cc437b5",
   "metadata": {},
   "outputs": [
    {
     "name": "stdout",
     "output_type": "stream",
     "text": [
      "Age (years)\n",
      "21    65.94\n",
      "22    63.72\n",
      "23    64.32\n",
      "24    64.96\n",
      "25    59.67\n",
      "26    64.18\n",
      "27    73.50\n",
      "28    68.31\n",
      "29    68.24\n",
      "30    64.86\n",
      "31    64.38\n",
      "32    70.06\n",
      "33    65.65\n",
      "34    74.00\n",
      "35    75.60\n",
      "36    69.12\n",
      "37    75.95\n",
      "38    71.12\n",
      "39    72.67\n",
      "40    69.23\n",
      "41    67.59\n",
      "42    73.39\n",
      "43    78.46\n",
      "44    61.75\n",
      "45    83.07\n",
      "46    76.00\n",
      "47    78.33\n",
      "48    78.40\n",
      "49    81.40\n",
      "50    78.25\n",
      "51    84.50\n",
      "52    81.50\n",
      "53    79.00\n",
      "54    89.33\n",
      "55    70.25\n",
      "56    76.33\n",
      "57    76.80\n",
      "58    78.29\n",
      "59    74.00\n",
      "60    80.00\n",
      "61    76.00\n",
      "62    71.50\n",
      "63    78.00\n",
      "64    78.00\n",
      "65    78.67\n",
      "66    86.00\n",
      "67    72.67\n",
      "68    82.00\n",
      "69    81.00\n",
      "70    82.00\n",
      "72     0.00\n",
      "81    74.00\n",
      "Name: Diastolic blood pressure (mm Hg), dtype: float64\n"
     ]
    }
   ],
   "source": [
    "#DAP per ogni anno \n",
    "media_dap_eta = round(df.groupby('Age (years)')['Diastolic blood pressure (mm Hg)'].mean(),2)\n",
    "print(media_dap_eta)"
   ]
  },
  {
   "cell_type": "code",
   "execution_count": null,
   "id": "4b410382-78d9-412d-a771-07a6a86f0ab6",
   "metadata": {},
   "outputs": [],
   "source": []
  }
 ],
 "metadata": {
  "kernelspec": {
   "display_name": "Python 3 (ipykernel)",
   "language": "python",
   "name": "python3"
  },
  "language_info": {
   "codemirror_mode": {
    "name": "ipython",
    "version": 3
   },
   "file_extension": ".py",
   "mimetype": "text/x-python",
   "name": "python",
   "nbconvert_exporter": "python",
   "pygments_lexer": "ipython3",
   "version": "3.11.7"
  }
 },
 "nbformat": 4,
 "nbformat_minor": 5
}
