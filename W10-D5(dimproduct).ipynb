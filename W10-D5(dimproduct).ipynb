{
 "cells": [
  {
   "cell_type": "code",
   "execution_count": 1,
   "id": "2aa41154-b3bc-4e04-9b86-a97a20fb5735",
   "metadata": {},
   "outputs": [
    {
     "data": {
      "text/plain": [
       "True"
      ]
     },
     "execution_count": 1,
     "metadata": {},
     "output_type": "execute_result"
    }
   ],
   "source": [
    "import pymysql\n",
    "import os\n",
    "import dotenv\n",
    "import sqlalchemy\n",
    "import pandas as pd\n",
    "\n",
    "dotenv.load_dotenv(override=True, dotenv_path=\"C:/Users/PANTANO/Desktop/Data Analyst/.env\")"
   ]
  },
  {
   "cell_type": "code",
   "execution_count": 2,
   "id": "fcf809b1-e024-4027-8b9a-86fd3f20fe06",
   "metadata": {},
   "outputs": [],
   "source": [
    "username = os.getenv(\"username\")\n",
    "password = os.getenv(\"password\")\n",
    "host = os.getenv(\"host\")\n",
    "dbname = os.getenv(\"dbname\")\n",
    "\n",
    "conn_string = \"mysql+pymysql://\" + username + \":\" + password + \"@\" + host + \"/\" + dbname\n",
    "\n",
    "db_engine = sqlalchemy.create_engine(conn_string)\n",
    "\n",
    "query = \"SELECT * FROM dimproduct\"\n",
    "dim=pd.read_sql(query, db_engine)"
   ]
  },
  {
   "cell_type": "code",
   "execution_count": 3,
   "id": "b6c56bcf-5348-4663-aab4-fb0841757c98",
   "metadata": {},
   "outputs": [
    {
     "data": {
      "text/plain": [
       "'studente_dapt'"
      ]
     },
     "execution_count": 3,
     "metadata": {},
     "output_type": "execute_result"
    }
   ],
   "source": [
    "username"
   ]
  },
  {
   "cell_type": "code",
   "execution_count": 4,
   "id": "5751b2dd-035a-48bb-a16c-2e207fee0cd4",
   "metadata": {},
   "outputs": [
    {
     "data": {
      "text/plain": [
       "(606, 36)"
      ]
     },
     "execution_count": 4,
     "metadata": {},
     "output_type": "execute_result"
    }
   ],
   "source": [
    "dim.shape"
   ]
  },
  {
   "cell_type": "code",
   "execution_count": 5,
   "id": "96d5eb85-9d9d-43ef-9830-fbd1566d60b0",
   "metadata": {},
   "outputs": [
    {
     "data": {
      "text/plain": [
       "Index(['ProductKey', 'ProductAlternateKey', 'ProductSubcategoryKey',\n",
       "       'WeightUnitMeasureCode', 'SizeUnitMeasureCode', 'EnglishProductName',\n",
       "       'SpanishProductName', 'FrenchProductName', 'StandardCost',\n",
       "       'FinishedGoodsFlag', 'Color', 'SafetyStockLevel', 'ReorderPoint',\n",
       "       'ListPrice', 'Size', 'SizeRange', 'Weight', 'DaysToManufacture',\n",
       "       'ProductLine', 'DealerPrice', 'Class', 'Style', 'ModelName',\n",
       "       'LargePhoto', 'EnglishDescription', 'FrenchDescription',\n",
       "       'ChineseDescription', 'ArabicDescription', 'HebrewDescription',\n",
       "       'ThaiDescription', 'GermanDescription', 'JapaneseDescription',\n",
       "       'TurkishDescription', 'StartDate', 'EndDate', 'Status'],\n",
       "      dtype='object')"
      ]
     },
     "execution_count": 5,
     "metadata": {},
     "output_type": "execute_result"
    }
   ],
   "source": [
    "#metadati\n",
    "dim.index\n",
    "dim.columns"
   ]
  },
  {
   "cell_type": "code",
   "execution_count": 6,
   "id": "7e20bf13-3666-4710-8c7a-09f8dd39cfb6",
   "metadata": {},
   "outputs": [
    {
     "data": {
      "text/html": [
       "<div>\n",
       "<style scoped>\n",
       "    .dataframe tbody tr th:only-of-type {\n",
       "        vertical-align: middle;\n",
       "    }\n",
       "\n",
       "    .dataframe tbody tr th {\n",
       "        vertical-align: top;\n",
       "    }\n",
       "\n",
       "    .dataframe thead th {\n",
       "        text-align: right;\n",
       "    }\n",
       "</style>\n",
       "<table border=\"1\" class=\"dataframe\">\n",
       "  <thead>\n",
       "    <tr style=\"text-align: right;\">\n",
       "      <th></th>\n",
       "      <th>ProductKey</th>\n",
       "      <th>ProductAlternateKey</th>\n",
       "      <th>ProductSubcategoryKey</th>\n",
       "      <th>WeightUnitMeasureCode</th>\n",
       "      <th>SizeUnitMeasureCode</th>\n",
       "      <th>EnglishProductName</th>\n",
       "      <th>SpanishProductName</th>\n",
       "      <th>FrenchProductName</th>\n",
       "      <th>StandardCost</th>\n",
       "      <th>FinishedGoodsFlag</th>\n",
       "      <th>...</th>\n",
       "      <th>ChineseDescription</th>\n",
       "      <th>ArabicDescription</th>\n",
       "      <th>HebrewDescription</th>\n",
       "      <th>ThaiDescription</th>\n",
       "      <th>GermanDescription</th>\n",
       "      <th>JapaneseDescription</th>\n",
       "      <th>TurkishDescription</th>\n",
       "      <th>StartDate</th>\n",
       "      <th>EndDate</th>\n",
       "      <th>Status</th>\n",
       "    </tr>\n",
       "  </thead>\n",
       "  <tbody>\n",
       "    <tr>\n",
       "      <th>605</th>\n",
       "      <td>606</td>\n",
       "      <td>BK-R19B-52</td>\n",
       "      <td>2.0</td>\n",
       "      <td>LB</td>\n",
       "      <td>CM</td>\n",
       "      <td>Road-750 Black, 52</td>\n",
       "      <td>Carretera: 750, negra, 52</td>\n",
       "      <td>Vélo de route 750 noir, 52</td>\n",
       "      <td>343.65</td>\n",
       "      <td>1</td>\n",
       "      <td>...</td>\n",
       "      <td>入门级成人自行车；确保越野旅行或公路骑乘的舒适。快拆式车毂和轮缘。</td>\n",
       "      <td>إنها دراجة مناسبة للمبتدئين من البالغين؛ فهي ت...</td>\n",
       "      <td>אופני מבוגרים למתחילים; מציעים רכיבה נוחה \"מחו...</td>\n",
       "      <td>จักรยานระดับเริ่มต้นสำหรับผู้ใหญ่ ให้ความสบายใ...</td>\n",
       "      <td>Ein Erwachsenenrad für Einsteiger; bietet Komf...</td>\n",
       "      <td>エントリー レベルに対応する、クロスカントリーにも街への買い物にも快適な、大人の自転車。ハブ...</td>\n",
       "      <td>\"Başlangıç seviyesinde yetişkin bisikleti, kır...</td>\n",
       "      <td>2013-07-01</td>\n",
       "      <td>NaT</td>\n",
       "      <td>Current</td>\n",
       "    </tr>\n",
       "  </tbody>\n",
       "</table>\n",
       "<p>1 rows × 36 columns</p>\n",
       "</div>"
      ],
      "text/plain": [
       "     ProductKey ProductAlternateKey  ProductSubcategoryKey  \\\n",
       "605         606          BK-R19B-52                    2.0   \n",
       "\n",
       "    WeightUnitMeasureCode SizeUnitMeasureCode  EnglishProductName  \\\n",
       "605                    LB                  CM  Road-750 Black, 52   \n",
       "\n",
       "            SpanishProductName           FrenchProductName  StandardCost  \\\n",
       "605  Carretera: 750, negra, 52  Vélo de route 750 noir, 52        343.65   \n",
       "\n",
       "     FinishedGoodsFlag  ...                 ChineseDescription  \\\n",
       "605                  1  ...  入门级成人自行车；确保越野旅行或公路骑乘的舒适。快拆式车毂和轮缘。   \n",
       "\n",
       "                                     ArabicDescription  \\\n",
       "605  إنها دراجة مناسبة للمبتدئين من البالغين؛ فهي ت...   \n",
       "\n",
       "                                     HebrewDescription  \\\n",
       "605  אופני מבוגרים למתחילים; מציעים רכיבה נוחה \"מחו...   \n",
       "\n",
       "                                       ThaiDescription  \\\n",
       "605  จักรยานระดับเริ่มต้นสำหรับผู้ใหญ่ ให้ความสบายใ...   \n",
       "\n",
       "                                     GermanDescription  \\\n",
       "605  Ein Erwachsenenrad für Einsteiger; bietet Komf...   \n",
       "\n",
       "                                   JapaneseDescription  \\\n",
       "605  エントリー レベルに対応する、クロスカントリーにも街への買い物にも快適な、大人の自転車。ハブ...   \n",
       "\n",
       "                                    TurkishDescription  StartDate EndDate  \\\n",
       "605  \"Başlangıç seviyesinde yetişkin bisikleti, kır... 2013-07-01     NaT   \n",
       "\n",
       "      Status  \n",
       "605  Current  \n",
       "\n",
       "[1 rows x 36 columns]"
      ]
     },
     "execution_count": 6,
     "metadata": {},
     "output_type": "execute_result"
    }
   ],
   "source": [
    "dim.tail(1)"
   ]
  },
  {
   "cell_type": "code",
   "execution_count": 7,
   "id": "c40bdb0f-b70c-40ab-ac16-f68e4ef309fd",
   "metadata": {},
   "outputs": [
    {
     "data": {
      "text/html": [
       "<div>\n",
       "<style scoped>\n",
       "    .dataframe tbody tr th:only-of-type {\n",
       "        vertical-align: middle;\n",
       "    }\n",
       "\n",
       "    .dataframe tbody tr th {\n",
       "        vertical-align: top;\n",
       "    }\n",
       "\n",
       "    .dataframe thead th {\n",
       "        text-align: right;\n",
       "    }\n",
       "</style>\n",
       "<table border=\"1\" class=\"dataframe\">\n",
       "  <thead>\n",
       "    <tr style=\"text-align: right;\">\n",
       "      <th></th>\n",
       "      <th>ProductKey</th>\n",
       "      <th>ProductAlternateKey</th>\n",
       "      <th>ProductSubcategoryKey</th>\n",
       "      <th>WeightUnitMeasureCode</th>\n",
       "      <th>SizeUnitMeasureCode</th>\n",
       "      <th>EnglishProductName</th>\n",
       "      <th>SpanishProductName</th>\n",
       "      <th>FrenchProductName</th>\n",
       "      <th>StandardCost</th>\n",
       "      <th>FinishedGoodsFlag</th>\n",
       "      <th>...</th>\n",
       "      <th>ChineseDescription</th>\n",
       "      <th>ArabicDescription</th>\n",
       "      <th>HebrewDescription</th>\n",
       "      <th>ThaiDescription</th>\n",
       "      <th>GermanDescription</th>\n",
       "      <th>JapaneseDescription</th>\n",
       "      <th>TurkishDescription</th>\n",
       "      <th>StartDate</th>\n",
       "      <th>EndDate</th>\n",
       "      <th>Status</th>\n",
       "    </tr>\n",
       "  </thead>\n",
       "  <tbody>\n",
       "    <tr>\n",
       "      <th>0</th>\n",
       "      <td>1</td>\n",
       "      <td>AR-5381</td>\n",
       "      <td>NaN</td>\n",
       "      <td>None</td>\n",
       "      <td>None</td>\n",
       "      <td>Adjustable Race</td>\n",
       "      <td></td>\n",
       "      <td></td>\n",
       "      <td>NaN</td>\n",
       "      <td>0</td>\n",
       "      <td>...</td>\n",
       "      <td>None</td>\n",
       "      <td>None</td>\n",
       "      <td>None</td>\n",
       "      <td>None</td>\n",
       "      <td>None</td>\n",
       "      <td>None</td>\n",
       "      <td>None</td>\n",
       "      <td>2003-07-01</td>\n",
       "      <td>NaT</td>\n",
       "      <td>Current</td>\n",
       "    </tr>\n",
       "  </tbody>\n",
       "</table>\n",
       "<p>1 rows × 36 columns</p>\n",
       "</div>"
      ],
      "text/plain": [
       "   ProductKey ProductAlternateKey  ProductSubcategoryKey  \\\n",
       "0           1             AR-5381                    NaN   \n",
       "\n",
       "  WeightUnitMeasureCode SizeUnitMeasureCode EnglishProductName  \\\n",
       "0                  None                None    Adjustable Race   \n",
       "\n",
       "  SpanishProductName FrenchProductName  StandardCost  FinishedGoodsFlag  ...  \\\n",
       "0                                                NaN                  0  ...   \n",
       "\n",
       "  ChineseDescription  ArabicDescription  HebrewDescription  ThaiDescription  \\\n",
       "0               None               None               None             None   \n",
       "\n",
       "  GermanDescription JapaneseDescription  TurkishDescription  StartDate  \\\n",
       "0              None                None                None 2003-07-01   \n",
       "\n",
       "  EndDate   Status  \n",
       "0     NaT  Current  \n",
       "\n",
       "[1 rows x 36 columns]"
      ]
     },
     "execution_count": 7,
     "metadata": {},
     "output_type": "execute_result"
    }
   ],
   "source": [
    "dim.head(1)"
   ]
  },
  {
   "cell_type": "code",
   "execution_count": 8,
   "id": "70f340f2-ffa4-4491-a168-33adf616fec0",
   "metadata": {},
   "outputs": [
    {
     "data": {
      "text/html": [
       "<div>\n",
       "<style scoped>\n",
       "    .dataframe tbody tr th:only-of-type {\n",
       "        vertical-align: middle;\n",
       "    }\n",
       "\n",
       "    .dataframe tbody tr th {\n",
       "        vertical-align: top;\n",
       "    }\n",
       "\n",
       "    .dataframe thead th {\n",
       "        text-align: right;\n",
       "    }\n",
       "</style>\n",
       "<table border=\"1\" class=\"dataframe\">\n",
       "  <thead>\n",
       "    <tr style=\"text-align: right;\">\n",
       "      <th></th>\n",
       "      <th>ProductKey</th>\n",
       "      <th>ProductAlternateKey</th>\n",
       "      <th>ProductSubcategoryKey</th>\n",
       "      <th>WeightUnitMeasureCode</th>\n",
       "      <th>SizeUnitMeasureCode</th>\n",
       "      <th>EnglishProductName</th>\n",
       "      <th>SpanishProductName</th>\n",
       "      <th>FrenchProductName</th>\n",
       "      <th>StandardCost</th>\n",
       "      <th>FinishedGoodsFlag</th>\n",
       "      <th>...</th>\n",
       "      <th>ChineseDescription</th>\n",
       "      <th>ArabicDescription</th>\n",
       "      <th>HebrewDescription</th>\n",
       "      <th>ThaiDescription</th>\n",
       "      <th>GermanDescription</th>\n",
       "      <th>JapaneseDescription</th>\n",
       "      <th>TurkishDescription</th>\n",
       "      <th>StartDate</th>\n",
       "      <th>EndDate</th>\n",
       "      <th>Status</th>\n",
       "    </tr>\n",
       "  </thead>\n",
       "  <tbody>\n",
       "    <tr>\n",
       "      <th>540</th>\n",
       "      <td>541</td>\n",
       "      <td>TI-T723</td>\n",
       "      <td>37.0</td>\n",
       "      <td>None</td>\n",
       "      <td>None</td>\n",
       "      <td>Touring Tire</td>\n",
       "      <td>Cubierta de paseo</td>\n",
       "      <td>Pneu de vélo de randonnée</td>\n",
       "      <td>10.84</td>\n",
       "      <td>1</td>\n",
       "      <td>...</td>\n",
       "      <td>高密度橡皮。</td>\n",
       "      <td>مطاط عالي الكثافة.</td>\n",
       "      <td>גומי בצפיפות גבוהה.</td>\n",
       "      <td>ยางความหนาแน่นสูง</td>\n",
       "      <td>Gummi mit hoher Dichte.</td>\n",
       "      <td>高密度ラバー。</td>\n",
       "      <td>Yüksek yoğunluklu lastik.</td>\n",
       "      <td>2013-07-01</td>\n",
       "      <td>NaT</td>\n",
       "      <td>Current</td>\n",
       "    </tr>\n",
       "    <tr>\n",
       "      <th>358</th>\n",
       "      <td>359</td>\n",
       "      <td>BK-M68B-38</td>\n",
       "      <td>1.0</td>\n",
       "      <td>LB</td>\n",
       "      <td>CM</td>\n",
       "      <td>Mountain-200 Black, 38</td>\n",
       "      <td>Montaña: 200, negra, 38</td>\n",
       "      <td>VTT 200 noir, 38</td>\n",
       "      <td>1251.98</td>\n",
       "      <td>1</td>\n",
       "      <td>...</td>\n",
       "      <td>适用于环境恶劣的野外骑乘。可应对各种比赛的完美赛车。使用与 Mountain-100 相同的...</td>\n",
       "      <td>لقيادة المحترفين في المناطق الريفية. دراجة مُث...</td>\n",
       "      <td>לרכיבה רצינית בשטחים נידחים. מתאימים לכל רמה ש...</td>\n",
       "      <td>สำหรับการขี่ในเส้นทางผจญภัย  เหมาะที่สุดสำหรับ...</td>\n",
       "      <td>Mountainbike für Profis. Perfekt für alle Schw...</td>\n",
       "      <td>バック カントリーまたは全レベルの競技用で、Mountain-100 と同じ HL フレーム...</td>\n",
       "      <td>Gerçek arazi sürüşü. Tüm yarışma seviyeleri iç...</td>\n",
       "      <td>2013-07-01</td>\n",
       "      <td>NaT</td>\n",
       "      <td>Current</td>\n",
       "    </tr>\n",
       "    <tr>\n",
       "      <th>308</th>\n",
       "      <td>309</td>\n",
       "      <td>FR-M94S-38</td>\n",
       "      <td>12.0</td>\n",
       "      <td>LB</td>\n",
       "      <td>CM</td>\n",
       "      <td>HL Mountain Frame - Silver, 38</td>\n",
       "      <td></td>\n",
       "      <td></td>\n",
       "      <td>747.20</td>\n",
       "      <td>1</td>\n",
       "      <td>...</td>\n",
       "      <td>每个车架都是在我们位于 Bothell 的工厂中手工制作，具有高质量山地车架所必需的最佳直径...</td>\n",
       "      <td>وقد تم تصنيع كل هيكل من تلك الهياكل يدويًا في ...</td>\n",
       "      <td>כל מסגרת מיוצרת ידנית במפעל שלנו ב- Bothell, ל...</td>\n",
       "      <td>เฟรมแต่ละชิ้นผ่านการสร้างด้วยมือในโรงงาน Bothe...</td>\n",
       "      <td>\"Jeder Rahmen wird in unserem Werk in Braunsfe...</td>\n",
       "      <td>各フレームは、Bothell 工場で最高級のマウンテン バイクのフレームに必要な最適径および...</td>\n",
       "      <td>\"Her bir kadro Bothell tesisimizde, birinci sı...</td>\n",
       "      <td>2013-07-01</td>\n",
       "      <td>NaT</td>\n",
       "      <td>Current</td>\n",
       "    </tr>\n",
       "    <tr>\n",
       "      <th>349</th>\n",
       "      <td>350</td>\n",
       "      <td>BK-M82B-44</td>\n",
       "      <td>1.0</td>\n",
       "      <td>LB</td>\n",
       "      <td>CM</td>\n",
       "      <td>Mountain-100 Black, 44</td>\n",
       "      <td>Montaña: 100, negra, 44</td>\n",
       "      <td>VTT 100 noir, 44</td>\n",
       "      <td>1898.09</td>\n",
       "      <td>1</td>\n",
       "      <td>...</td>\n",
       "      <td>高档竞赛山地车。性能得到进一步增强，包括创新的 HL 车架、极其平稳的前悬架以及适用于所有地...</td>\n",
       "      <td>دراجة سباقات مخصصة للقيادة في الجبال من أعلى ط...</td>\n",
       "      <td>אופני הרים תחרותיים מהשורה הראשונה. אפשרויות ל...</td>\n",
       "      <td>สุดยอดจักรยานภูเขาสำหรับการแข่งขัน สมบูรณ์แบบด...</td>\n",
       "      <td>\"Top-Mountainbike für Profis. Mit innovativem ...</td>\n",
       "      <td>最高級の競技用マウンテン バイクです。性能強化オプションとしては、革新的な HL フレーム、...</td>\n",
       "      <td>\"En üst model rekabetçi dağ bisikleti. Perform...</td>\n",
       "      <td>2011-07-01</td>\n",
       "      <td>2007-12-28</td>\n",
       "      <td>None</td>\n",
       "    </tr>\n",
       "    <tr>\n",
       "      <th>145</th>\n",
       "      <td>146</td>\n",
       "      <td>LW-3400</td>\n",
       "      <td>NaN</td>\n",
       "      <td>None</td>\n",
       "      <td>None</td>\n",
       "      <td>Lock Washer 13</td>\n",
       "      <td></td>\n",
       "      <td></td>\n",
       "      <td>NaN</td>\n",
       "      <td>0</td>\n",
       "      <td>...</td>\n",
       "      <td>None</td>\n",
       "      <td>None</td>\n",
       "      <td>None</td>\n",
       "      <td>None</td>\n",
       "      <td>None</td>\n",
       "      <td>None</td>\n",
       "      <td>None</td>\n",
       "      <td>2003-07-01</td>\n",
       "      <td>NaT</td>\n",
       "      <td>Current</td>\n",
       "    </tr>\n",
       "  </tbody>\n",
       "</table>\n",
       "<p>5 rows × 36 columns</p>\n",
       "</div>"
      ],
      "text/plain": [
       "     ProductKey ProductAlternateKey  ProductSubcategoryKey  \\\n",
       "540         541             TI-T723                   37.0   \n",
       "358         359          BK-M68B-38                    1.0   \n",
       "308         309          FR-M94S-38                   12.0   \n",
       "349         350          BK-M82B-44                    1.0   \n",
       "145         146             LW-3400                    NaN   \n",
       "\n",
       "    WeightUnitMeasureCode SizeUnitMeasureCode              EnglishProductName  \\\n",
       "540                  None                None                    Touring Tire   \n",
       "358                    LB                  CM          Mountain-200 Black, 38   \n",
       "308                    LB                  CM  HL Mountain Frame - Silver, 38   \n",
       "349                    LB                  CM          Mountain-100 Black, 44   \n",
       "145                  None                None                  Lock Washer 13   \n",
       "\n",
       "          SpanishProductName          FrenchProductName  StandardCost  \\\n",
       "540        Cubierta de paseo  Pneu de vélo de randonnée         10.84   \n",
       "358  Montaña: 200, negra, 38           VTT 200 noir, 38       1251.98   \n",
       "308                                                            747.20   \n",
       "349  Montaña: 100, negra, 44           VTT 100 noir, 44       1898.09   \n",
       "145                                                               NaN   \n",
       "\n",
       "     FinishedGoodsFlag  ...  \\\n",
       "540                  1  ...   \n",
       "358                  1  ...   \n",
       "308                  1  ...   \n",
       "349                  1  ...   \n",
       "145                  0  ...   \n",
       "\n",
       "                                    ChineseDescription  \\\n",
       "540                                             高密度橡皮。   \n",
       "358  适用于环境恶劣的野外骑乘。可应对各种比赛的完美赛车。使用与 Mountain-100 相同的...   \n",
       "308  每个车架都是在我们位于 Bothell 的工厂中手工制作，具有高质量山地车架所必需的最佳直径...   \n",
       "349  高档竞赛山地车。性能得到进一步增强，包括创新的 HL 车架、极其平稳的前悬架以及适用于所有地...   \n",
       "145                                               None   \n",
       "\n",
       "                                     ArabicDescription  \\\n",
       "540                                 مطاط عالي الكثافة.   \n",
       "358  لقيادة المحترفين في المناطق الريفية. دراجة مُث...   \n",
       "308  وقد تم تصنيع كل هيكل من تلك الهياكل يدويًا في ...   \n",
       "349  دراجة سباقات مخصصة للقيادة في الجبال من أعلى ط...   \n",
       "145                                               None   \n",
       "\n",
       "                                     HebrewDescription  \\\n",
       "540                                גומי בצפיפות גבוהה.   \n",
       "358  לרכיבה רצינית בשטחים נידחים. מתאימים לכל רמה ש...   \n",
       "308  כל מסגרת מיוצרת ידנית במפעל שלנו ב- Bothell, ל...   \n",
       "349  אופני הרים תחרותיים מהשורה הראשונה. אפשרויות ל...   \n",
       "145                                               None   \n",
       "\n",
       "                                       ThaiDescription  \\\n",
       "540                                  ยางความหนาแน่นสูง   \n",
       "358  สำหรับการขี่ในเส้นทางผจญภัย  เหมาะที่สุดสำหรับ...   \n",
       "308  เฟรมแต่ละชิ้นผ่านการสร้างด้วยมือในโรงงาน Bothe...   \n",
       "349  สุดยอดจักรยานภูเขาสำหรับการแข่งขัน สมบูรณ์แบบด...   \n",
       "145                                               None   \n",
       "\n",
       "                                     GermanDescription  \\\n",
       "540                            Gummi mit hoher Dichte.   \n",
       "358  Mountainbike für Profis. Perfekt für alle Schw...   \n",
       "308  \"Jeder Rahmen wird in unserem Werk in Braunsfe...   \n",
       "349  \"Top-Mountainbike für Profis. Mit innovativem ...   \n",
       "145                                               None   \n",
       "\n",
       "                                   JapaneseDescription  \\\n",
       "540                                            高密度ラバー。   \n",
       "358  バック カントリーまたは全レベルの競技用で、Mountain-100 と同じ HL フレーム...   \n",
       "308  各フレームは、Bothell 工場で最高級のマウンテン バイクのフレームに必要な最適径および...   \n",
       "349  最高級の競技用マウンテン バイクです。性能強化オプションとしては、革新的な HL フレーム、...   \n",
       "145                                               None   \n",
       "\n",
       "                                    TurkishDescription  StartDate    EndDate  \\\n",
       "540                          Yüksek yoğunluklu lastik. 2013-07-01        NaT   \n",
       "358  Gerçek arazi sürüşü. Tüm yarışma seviyeleri iç... 2013-07-01        NaT   \n",
       "308  \"Her bir kadro Bothell tesisimizde, birinci sı... 2013-07-01        NaT   \n",
       "349  \"En üst model rekabetçi dağ bisikleti. Perform... 2011-07-01 2007-12-28   \n",
       "145                                               None 2003-07-01        NaT   \n",
       "\n",
       "      Status  \n",
       "540  Current  \n",
       "358  Current  \n",
       "308  Current  \n",
       "349     None  \n",
       "145  Current  \n",
       "\n",
       "[5 rows x 36 columns]"
      ]
     },
     "execution_count": 8,
     "metadata": {},
     "output_type": "execute_result"
    }
   ],
   "source": [
    "dim.sample(5)"
   ]
  },
  {
   "cell_type": "code",
   "execution_count": 9,
   "id": "70d34f6d-09ab-4443-9991-a5ab81921edc",
   "metadata": {},
   "outputs": [
    {
     "data": {
      "text/plain": [
       "['NA',\n",
       " 'Black',\n",
       " 'Silver',\n",
       " 'Red',\n",
       " 'White',\n",
       " 'Blue',\n",
       " 'Multi',\n",
       " 'Yellow',\n",
       " 'Grey',\n",
       " 'Silver/Black']"
      ]
     },
     "execution_count": 9,
     "metadata": {},
     "output_type": "execute_result"
    }
   ],
   "source": [
    "#colori disponibili\n",
    "list(dim[\"Color\"].unique())"
   ]
  },
  {
   "cell_type": "code",
   "execution_count": 10,
   "id": "db6fb602-bf7c-4736-a028-a022b36fcc76",
   "metadata": {},
   "outputs": [
    {
     "name": "stdout",
     "output_type": "stream",
     "text": [
      "56.2\n",
      "2.12\n",
      "1050.0\n",
      "numero di prodotti che pesano piu di 100: 606\n"
     ]
    }
   ],
   "source": [
    "#In media quanto pesano i prodotti? \n",
    "#weight=pd.array(dim[\"Weight\"])\n",
    "print(round(dim[\"Weight\"].mean(),1))\n",
    "\n",
    "#• Quanto pesa il più leggero? \n",
    "print(dim[\"Weight\"].min())\n",
    "\n",
    "#• Quanto pesa il più pesante? \n",
    "print(dim[\"Weight\"].max())\n",
    "\n",
    "#• Quanti prodotti pesano più di 100 Kg?\n",
    "weight_filter=dim[\"Weight\"]>100\n",
    "print(f\"numero di prodotti che pesano piu di 100:\", len(weight_filter))"
   ]
  },
  {
   "cell_type": "code",
   "execution_count": 11,
   "id": "8cd988b6-28da-4dbf-b9a3-d92f9f8f9f67",
   "metadata": {},
   "outputs": [
    {
     "name": "stdout",
     "output_type": "stream",
     "text": [
      "448.6\n"
     ]
    }
   ],
   "source": [
    "#Quanto costano in media i prodotti (colonna DealerPrice)? \n",
    "print(round(dim[\"DealerPrice\"].mean(),2))"
   ]
  },
  {
   "cell_type": "code",
   "execution_count": 12,
   "id": "bf9c0939-f839-4de8-8e49-4bec3daa1b2f",
   "metadata": {},
   "outputs": [
    {
     "name": "stdout",
     "output_type": "stream",
     "text": [
      "count     395.000000\n",
      "mean      448.597060\n",
      "std       503.225071\n",
      "min         1.374000\n",
      "25%        41.994000\n",
      "50%       218.454000\n",
      "75%       722.594900\n",
      "max      2146.962000\n",
      "Name: DealerPrice, dtype: float64\n",
      "Il range del quarto dei prodotti più costosi va da 722,59 a 2146,96\n"
     ]
    }
   ],
   "source": [
    "# Se prendiamo un quarto di tutti i prodotti, in modo che siano i più costosi, quale sarà il loro range di prezzo?\n",
    "print(dim[\"DealerPrice\"].describe())\n",
    "print(\"Il range del quarto dei prodotti più costosi va da 722,59 a 2146,96\")"
   ]
  },
  {
   "cell_type": "code",
   "execution_count": 13,
   "id": "31ef8468-ac48-4e04-a370-0f3d00719bb6",
   "metadata": {},
   "outputs": [
    {
     "name": "stdout",
     "output_type": "stream",
     "text": [
      "516\n"
     ]
    }
   ],
   "source": [
    "#prezzo medio prodotti colore blu \n",
    "filtro_colore=dim[\"Color\"]==\"Blue\"\n",
    "dim_blue=dim[filtro_colore]\n",
    "print(round(dim_blue[\"DealerPrice\"].mean(),))"
   ]
  },
  {
   "cell_type": "code",
   "execution_count": 14,
   "id": "e7261184-1f3c-4c43-8a06-24e848aa8ca6",
   "metadata": {},
   "outputs": [
    {
     "name": "stdout",
     "output_type": "stream",
     "text": [
      "550\n"
     ]
    }
   ],
   "source": [
    "#Qual è il prezzo medio per i prodotti di colore rosso o nero?\n",
    "filtro_colore= (dim[\"Color\"]==\"Red\") | (dim[\"Color\"]==\"Black\")\n",
    "dim_RoB=dim[filtro_colore]\n",
    "print(round(dim_RoB[\"DealerPrice\"].mean(),))"
   ]
  },
  {
   "cell_type": "code",
   "execution_count": 15,
   "id": "20aca8ce-b7e0-4263-b1a3-4c29d7b82673",
   "metadata": {},
   "outputs": [
    {
     "name": "stdout",
     "output_type": "stream",
     "text": [
      "3399.99\n"
     ]
    }
   ],
   "source": [
    "#Qual è il prezzo massimo per i prodotti di taglia 42 e peso oltre i 10 Kg?\n",
    "dim[\"Weight\"] = pd.to_numeric(dim[\"Weight\"], errors=\"coerce\")\n",
    "dim[\"Size\"] = pd.to_numeric(dim[\"Size\"], errors=\"coerce\")\n",
    "dim[\"ListPrice\"] = pd.to_numeric(dim[\"ListPrice\"], errors=\"coerce\")\n",
    "\n",
    "filtro_size_prezzo= (dim[\"Weight\"]>10) & (dim[\"Size\"]==42)\n",
    "dim_filtro_size_prezzo=dim[filtro_size_prezzo]\n",
    "print(dim_filtro_size_prezzo[\"ListPrice\"].max())"
   ]
  },
  {
   "cell_type": "code",
   "execution_count": 16,
   "id": "8bfbcdb3-841d-4ab7-a41d-8e453562862d",
   "metadata": {},
   "outputs": [
    {
     "name": "stdout",
     "output_type": "stream",
     "text": [
      "            EnglishProductName  StandardCost\n",
      "344    Mountain-100 Silver, 42       1912.15\n",
      "353    Mountain-200 Silver, 42       1117.86\n",
      "354    Mountain-200 Silver, 42       1265.62\n",
      "588  Mountain-400-W Silver, 42        419.78\n",
      "591    Mountain-500 Silver, 42        308.22\n",
      "(5, 2)\n"
     ]
    }
   ],
   "source": [
    "#Qual è il nome inglese e il costo di produzione (StandardCost) di tutti i prodotti di taglia 42, peso oltre i 10 Kg e colore argento?\n",
    "\n",
    "s=dim[\"Size\"] == 42\n",
    "w=dim[\"Weight\"] > 10\n",
    "c=dim[\"Color\"] == \"Silver\"\n",
    "\n",
    "filtro = (s) & (w) & (c)\n",
    "\n",
    "risultato=dim[filtro][[\"EnglishProductName\", \"StandardCost\"]]\n",
    "print(risultato)\n",
    "print(risultato.shape)"
   ]
  },
  {
   "cell_type": "code",
   "execution_count": 25,
   "id": "f0d8b5f3-538d-4902-be3a-233619825aa8",
   "metadata": {},
   "outputs": [
    {
     "name": "stdout",
     "output_type": "stream",
     "text": [
      "     StandardCost  DealerPrice  Differenza\n",
      "586        419.78      461.694      41.914\n",
      "587        419.78      461.694      41.914\n",
      "588        419.78      461.694      41.914\n",
      "589        419.78      461.694      41.914\n",
      "590        308.22      338.994      30.774\n",
      "591        308.22      338.994      30.774\n",
      "592        308.22      338.994      30.774\n",
      "593        308.22      338.994      30.774\n",
      "594        308.22      338.994      30.774\n",
      "595        294.58      323.994      29.414\n",
      "596        294.58      323.994      29.414\n",
      "597        294.58      323.994      29.414\n",
      "598        294.58      323.994      29.414\n",
      "599        294.58      323.994      29.414\n",
      "600         23.97       32.394       8.424\n",
      "601         44.95       60.744      15.794\n",
      "602         53.94       72.894      18.954\n",
      "603        343.65      323.994     -19.656\n",
      "604        343.65      323.994     -19.656\n",
      "605        343.65      323.994     -19.656\n"
     ]
    }
   ],
   "source": [
    "#Esaminiamo la differenza tra lo StandardCost e il DealerPrice degli ultimi 20 elementi del dataset: \n",
    "#c'è un pattern? C'è qualche elemento che non lo segue?\n",
    "dim[\"Differenza\"]= dim[\"DealerPrice\"] - dim[\"StandardCost\"]\n",
    "ultimi_20 = dim.tail(20)\n",
    "\n",
    "print(ultimi_20[[\"StandardCost\", \"DealerPrice\",\"Differenza\"]])"
   ]
  },
  {
   "cell_type": "code",
   "execution_count": null,
   "id": "bc37c6be-a133-4b75-b673-a2094e56f0ca",
   "metadata": {},
   "outputs": [],
   "source": []
  }
 ],
 "metadata": {
  "kernelspec": {
   "display_name": "Python 3 (ipykernel)",
   "language": "python",
   "name": "python3"
  },
  "language_info": {
   "codemirror_mode": {
    "name": "ipython",
    "version": 3
   },
   "file_extension": ".py",
   "mimetype": "text/x-python",
   "name": "python",
   "nbconvert_exporter": "python",
   "pygments_lexer": "ipython3",
   "version": "3.11.7"
  }
 },
 "nbformat": 4,
 "nbformat_minor": 5
}
