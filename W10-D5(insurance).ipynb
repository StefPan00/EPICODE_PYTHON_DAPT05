{
 "cells": [
  {
   "cell_type": "code",
   "execution_count": null,
   "id": "ca2b80bc-a8aa-4204-b877-d4a2d6ab6fe1",
   "metadata": {},
   "outputs": [],
   "source": [
    "#esercizio INSURANCE DATASET"
   ]
  },
  {
   "cell_type": "code",
   "execution_count": 1,
   "id": "88d67f31-0150-4d93-8c27-2eefa44296b6",
   "metadata": {},
   "outputs": [],
   "source": [
    "import pandas as pd\n",
    "file_path=\"C:/Users/PANTANO/Desktop/Data Analyst/LEZIONI/3 Terzo Modulo Python/insurance.csv\"\n",
    "df = pd.read_csv(file_path)"
   ]
  },
  {
   "cell_type": "code",
   "execution_count": 3,
   "id": "324eb296-fd5a-47fd-9d0f-8cf71a970b12",
   "metadata": {},
   "outputs": [
    {
     "name": "stdout",
     "output_type": "stream",
     "text": [
      "(1338, 7)\n",
      "<bound method DataFrame.info of       age     sex     bmi  children smoker     region      charges\n",
      "0      19  female  27.900         0    yes  southwest  16884.92400\n",
      "1      18    male  33.770         1     no  southeast   1725.55230\n",
      "2      28    male  33.000         3     no  southeast   4449.46200\n",
      "3      33    male  22.705         0     no  northwest  21984.47061\n",
      "4      32    male  28.880         0     no  northwest   3866.85520\n",
      "...   ...     ...     ...       ...    ...        ...          ...\n",
      "1333   50    male  30.970         3     no  northwest  10600.54830\n",
      "1334   18  female  31.920         0     no  northeast   2205.98080\n",
      "1335   18  female  36.850         0     no  southeast   1629.83350\n",
      "1336   21  female  25.800         0     no  southwest   2007.94500\n",
      "1337   61  female  29.070         0    yes  northwest  29141.36030\n",
      "\n",
      "[1338 rows x 7 columns]>\n",
      "age           int64\n",
      "sex          object\n",
      "bmi         float64\n",
      "children      int64\n",
      "smoker       object\n",
      "region       object\n",
      "charges     float64\n",
      "dtype: object\n",
      "Index(['age', 'sex', 'bmi', 'children', 'smoker', 'region', 'charges'], dtype='object')\n"
     ]
    }
   ],
   "source": [
    "#Visualizziamone le dimensioni, un'anteprima, e osserviamo i nomi di colonna\n",
    "print(df.shape)\n",
    "print(df.info)\n",
    "print(df.dtypes)\n",
    "print(df.columns)"
   ]
  },
  {
   "cell_type": "code",
   "execution_count": 8,
   "id": "0c21cbbe-4319-4069-8071-7c268ac4194b",
   "metadata": {},
   "outputs": [
    {
     "name": "stdout",
     "output_type": "stream",
     "text": [
      "media charges region\n",
      "northeast    13406.38\n",
      "northwest    12417.58\n",
      "southeast    14735.41\n",
      "southwest    12346.94\n",
      "Name: charges, dtype: float64\n"
     ]
    }
   ],
   "source": [
    "#Quali sono le medie di charges rispetto a region? Ci sono differenze significative?\n",
    "media_charges_per_regione=df.groupby(\"region\")[\"charges\"].mean()\n",
    "print(\"media charges\", round(media_charges_per_regione,2))"
   ]
  },
  {
   "cell_type": "code",
   "execution_count": 10,
   "id": "ed113b65-a422-422a-aaa9-c803e5036286",
   "metadata": {},
   "outputs": [
    {
     "name": "stdout",
     "output_type": "stream",
     "text": [
      "media charges smoker\n",
      "no      8434.27\n",
      "yes    32050.23\n",
      "Name: charges, dtype: float64\n",
      "media charges sex\n",
      "female    12569.58\n",
      "male      13956.75\n",
      "Name: charges, dtype: float64\n"
     ]
    }
   ],
   "source": [
    "#E rispetto a smoker? E a sex?\n",
    "media_charges_per_smoker=df.groupby(\"smoker\")[\"charges\"].mean()\n",
    "print(\"media charges\", round(media_charges_per_smoker,2))\n",
    "\n",
    "media_charges_per_sex=df.groupby(\"sex\")[\"charges\"].mean()\n",
    "print(\"media charges\", round(media_charges_per_sex,2))"
   ]
  },
  {
   "cell_type": "code",
   "execution_count": 13,
   "id": "96e78938-e453-4cac-b604-fda6dfc27ca1",
   "metadata": {},
   "outputs": [
    {
     "name": "stdout",
     "output_type": "stream",
     "text": [
      "count    1338.000000\n",
      "mean       30.663397\n",
      "std         6.098187\n",
      "min        15.960000\n",
      "25%        26.296250\n",
      "50%        30.400000\n",
      "75%        34.693750\n",
      "max        53.130000\n",
      "Name: bmi, dtype: float64\n",
      "\n",
      "Minimo, media e massimo di charges per quartili di BMI:\n",
      "  bmi_quartile        min          mean          max\n",
      "0           Q1  1121.8739  10360.662825  38245.59327\n",
      "1           Q2  1131.5066  11407.831468  62592.87309\n",
      "2           Q3  1135.9407  14358.173081  60021.39897\n",
      "3           Q4  1141.4451  16987.936691  63770.42801\n"
     ]
    },
    {
     "name": "stderr",
     "output_type": "stream",
     "text": [
      "C:\\Users\\PANTANO\\AppData\\Local\\Temp\\ipykernel_2692\\2049545811.py:7: FutureWarning: The default of observed=False is deprecated and will be changed to True in a future version of pandas. Pass observed=False to retain current behavior or observed=True to adopt the future default and silence this warning.\n",
      "  charges_by_quartile = df.groupby('bmi_quartile')['charges'].agg(['min', 'mean', 'max']).reset_index()\n"
     ]
    }
   ],
   "source": [
    "#Quali sono i descrittori statistici di bmi? Quali sono minimo, media e massimo di charges rispetto ai diversi quartili dei valori di bmi?\n",
    "print(df[\"bmi\"].describe())\n",
    "\n",
    "\n",
    "df['bmi_quartile'] = pd.qcut(df['bmi'], q=4, labels=['Q1', 'Q2', 'Q3', 'Q4'])\n",
    "\n",
    "charges_by_quartile = df.groupby('bmi_quartile')['charges'].agg(['min', 'mean', 'max']).reset_index()\n",
    "\n",
    "print(\"\\nMinimo, media e massimo di charges per quartili di BMI:\")\n",
    "print(charges_by_quartile)"
   ]
  }
 ],
 "metadata": {
  "kernelspec": {
   "display_name": "Python 3 (ipykernel)",
   "language": "python",
   "name": "python3"
  },
  "language_info": {
   "codemirror_mode": {
    "name": "ipython",
    "version": 3
   },
   "file_extension": ".py",
   "mimetype": "text/x-python",
   "name": "python",
   "nbconvert_exporter": "python",
   "pygments_lexer": "ipython3",
   "version": "3.11.7"
  }
 },
 "nbformat": 4,
 "nbformat_minor": 5
}
