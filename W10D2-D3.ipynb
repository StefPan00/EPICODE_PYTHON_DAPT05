{
 "cells": [
  {
   "cell_type": "code",
   "execution_count": null,
   "id": "b9951f55-fa57-4fc9-9189-3a16e7be2bb8",
   "metadata": {},
   "outputs": [],
   "source": [
    "#ESERCIZI W10"
   ]
  },
  {
   "cell_type": "code",
   "execution_count": 1,
   "id": "d7a57b9c-8c56-4f51-b09f-3290e49aa156",
   "metadata": {},
   "outputs": [],
   "source": [
    "mat = [[0, 1, 2, 3, 4], [5, 6, 7, 8, 9], [10, 11, 12, 13, 14]]\n",
    "\n",
    "#matrice 3x5, per prendere un singolo elemnto prima specificare la riga e poi la colonna. python conta  apartire da 0"
   ]
  },
  {
   "cell_type": "code",
   "execution_count": 12,
   "id": "0cb377bc-c24a-4a25-a348-1954cf07e5e7",
   "metadata": {},
   "outputs": [
    {
     "name": "stdout",
     "output_type": "stream",
     "text": [
      "0.0\n",
      "1.0\n",
      "24\n",
      "3.141592653589793\n"
     ]
    },
    {
     "data": {
      "text/plain": [
       "180.0"
      ]
     },
     "execution_count": 12,
     "metadata": {},
     "output_type": "execute_result"
    }
   ],
   "source": [
    "import math\n",
    "print(math.sin(0))\n",
    "print(math.cos(0))\n",
    "print(math.factorial(4)) #fattoriale di 4\n",
    "print(math.pi) #stampa il pigreco\n",
    "\n",
    "math.degrees(math.pi) #restituisce l'angolo pigreco in gradi"
   ]
  },
  {
   "cell_type": "code",
   "execution_count": 27,
   "id": "3008bfb2-80c9-443f-8c6d-7f0b3ced1bca",
   "metadata": {},
   "outputs": [
    {
     "name": "stdout",
     "output_type": "stream",
     "text": [
      "vednita massima mensile:8150\n",
      "vednita minima mensile: 1280\n",
      "vednita maggiore di 4999: [5500 7200 6410 8150 7100 5350]\n",
      "numero di mesi con vendite maggiori di 4999: 6\n",
      "vendita minore di 3000 oggetti: [2000 1280 1900 2500]\n",
      "Media delle vendite mensili: 4634.17\n"
     ]
    }
   ],
   "source": [
    "import numpy as np\n",
    "lst = [2000, 5500, 7200, 4320, 1280, 1900, 2500, 3900, 6410, 8150, 7100, 5350]\n",
    "lst = np.array(lst)\n",
    "\n",
    "#vendita massima e minima \n",
    "max_vendita = np.max(lst)\n",
    "print(f\"vednita massima mensile:{max_vendita}\")\n",
    "\n",
    "#vednita minima\n",
    "min_vendita = np.min(lst)\n",
    "print(f\"vednita minima mensile:\", min_vendita)\n",
    "\n",
    "#vednita maggiore di 4999\n",
    "vendita_maggiore_4999= lst[lst>4999]\n",
    "print(f\"vednita maggiore di 4999:\", vendita_maggiore_4999)\n",
    "print(f\"numero di mesi con vendite maggiori di 4999:\", len(vendita_maggiore_4999))\n",
    "\n",
    "#vednite mensili minori di 3000\n",
    "vendita_minore_3000=lst[lst<3000]\n",
    "print(f\"vendita minore di 3000 oggetti:\", vendita_minore_3000)\n",
    "\n",
    "#media\n",
    "media_vendita = np.mean(lst)\n",
    "print(f\"Media delle vendite mensili: {media_vendita:.2f}\")"
   ]
  },
  {
   "cell_type": "code",
   "execution_count": 31,
   "id": "9f7b8a72-a0b5-40ee-8517-8104ced14517",
   "metadata": {},
   "outputs": [
    {
     "name": "stdout",
     "output_type": "stream",
     "text": [
      "12000\n",
      "12000\n"
     ]
    }
   ],
   "source": [
    "#dizionari\n",
    "import pandas as pd\n",
    "\n",
    "fatturati_dict = {1997: 12_000, 1998: 15_000, 1999: 20_000, 2000: 23_000, 2001: 25_000, 2002: 17_000, 2003: 14_000, 2004: 21_000}\n",
    "fatturati_series = pd.Series([12_000, 15_000, 20_000, 23_000, 25_000, 17_000, 14_000, 21_000], index=range(1997, 2005))\n",
    "\n",
    "print(fatturati_dict[1997])\n",
    "print(fatturati_series[1997])\n",
    "# il vantaggio della serie è esgeuire operazioni statistiche sui dati"
   ]
  },
  {
   "cell_type": "code",
   "execution_count": 37,
   "id": "38826bbf-6332-44d0-a227-22cd52f5f1f4",
   "metadata": {},
   "outputs": [
    {
     "name": "stdout",
     "output_type": "stream",
     "text": [
      "Stipendi raddoppiati: [200, 400, 600, 800, 1000, 1200, 1400, 1600, 1800, 2000]\n",
      "Stipendi raddoppiati usando il masking [array([ 200,  400,  600,  800, 1000, 1200, 1400, 1600, 1800, 2000])]\n"
     ]
    }
   ],
   "source": [
    "# raddoppiare gli stipendi: con un ciclo for 7 • con il masking\n",
    "\n",
    "import numpy as np \n",
    "stipendi = np.array( [100, 200, 300, 400, 500,  600, 700, 800, 900, 1000] )\n",
    "stipendix2=[]\n",
    "\n",
    "for i in stipendi:\n",
    "    stipendiox2= i*2\n",
    "    stipendix2.append(stipendiox2)\n",
    "    \n",
    "print(\"Stipendi raddoppiati:\", stipendix2)\n",
    "\n",
    "stipendi_raddoppiati_masking=[stipendi*2]\n",
    "print(\"Stipendi raddoppiati usando il masking\", stipendi_raddoppiati_masking)"
   ]
  }
 ],
 "metadata": {
  "kernelspec": {
   "display_name": "Python 3 (ipykernel)",
   "language": "python",
   "name": "python3"
  },
  "language_info": {
   "codemirror_mode": {
    "name": "ipython",
    "version": 3
   },
   "file_extension": ".py",
   "mimetype": "text/x-python",
   "name": "python",
   "nbconvert_exporter": "python",
   "pygments_lexer": "ipython3",
   "version": "3.11.7"
  }
 },
 "nbformat": 4,
 "nbformat_minor": 5
}
