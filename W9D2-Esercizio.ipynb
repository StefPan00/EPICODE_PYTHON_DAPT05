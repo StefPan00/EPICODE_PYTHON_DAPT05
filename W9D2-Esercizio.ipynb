{
 "cells": [
  {
   "cell_type": "code",
   "execution_count": 5,
   "id": "d6f268e9-c349-4995-9c30-b2f2ccedfafd",
   "metadata": {},
   "outputs": [],
   "source": [
    "# Esercizio 1\n",
    "studenti=25\n"
   ]
  },
  {
   "cell_type": "code",
   "execution_count": 6,
   "id": "6ed59169-a9ac-4995-90b4-c185852e68bb",
   "metadata": {},
   "outputs": [],
   "source": [
    "nuovi_arrivi =3 "
   ]
  },
  {
   "cell_type": "code",
   "execution_count": 7,
   "id": "65e033d9-00f4-4d1a-9a0c-e004bb99781f",
   "metadata": {},
   "outputs": [
    {
     "name": "stdout",
     "output_type": "stream",
     "text": [
      "25\n",
      "3\n",
      "28\n"
     ]
    }
   ],
   "source": [
    "print (studenti)\n",
    "print(nuovi_arrivi)\n",
    "tot_studenti=studenti+ nuovi_arrivi\n",
    "print(tot_studenti)"
   ]
  },
  {
   "cell_type": "code",
   "execution_count": 8,
   "id": "a6cb3e00-cfef-433d-a123-5c72ddda7adc",
   "metadata": {},
   "outputs": [
    {
     "name": "stdout",
     "output_type": "stream",
     "text": [
      "Epicode\n"
     ]
    }
   ],
   "source": [
    "# Creare una variabile che contiene la stringa \"Epicode\", quindi stamparla a video.\n",
    "frase='Epicode'\n",
    "print(frase)"
   ]
  },
  {
   "cell_type": "code",
   "execution_count": 15,
   "id": "1a042c9b-fff2-47e6-b3a5-5d60a8790045",
   "metadata": {},
   "outputs": [
    {
     "name": "stdout",
     "output_type": "stream",
     "text": [
      "36\n",
      "36\n"
     ]
    }
   ],
   "source": [
    "# Abbiamo x=10. Incrementarla di 2 e poi moltiplicarla per 3. Usa due metodi\n",
    "#metodo1\n",
    "x = 10\n",
    "x += 2     # Incrementa x di 2 (equivale a x = x + 2)\n",
    "x *= 3     # Moltiplica x per 3 (equivale a x = x * 3)\n",
    "print(x)\n",
    "\n",
    "#metodo2\n",
    "x=10\n",
    "x = (x + 2)*3 \n",
    "\n",
    "print(x)"
   ]
  },
  {
   "cell_type": "code",
   "execution_count": 3,
   "id": "4124e5ae-2a4d-4d5f-bbb8-25c8f25f4469",
   "metadata": {},
   "outputs": [
    {
     "name": "stdout",
     "output_type": "stream",
     "text": [
      "Windows: ha lunghezza compresa tra 5 e 8\n",
      "Excel: ha lunghezza compresa tra 5 e 8\n",
      "Powerpoint: NON soddisfa la richiesta\n",
      "Word: NON soddisfa la richiesta\n"
     ]
    }
   ],
   "source": [
    "#Verificare, per ognuna delle seguenti stringhe, se il numero di caratteri è compreso tra 5 e 8:\n",
    "str1 = \"Windows\" \n",
    "\n",
    "str2 = \"Excel\" \n",
    "\n",
    "str3 = \"Powerpoint\" \n",
    "\n",
    "str4 = \"Word\"\n",
    "\n",
    "\n",
    "softwares=[str1, str2, str3, str4]\n",
    "for name in (softwares):\n",
    "    if 5<=len(name)<=8:\n",
    "        print (f\"{name}: ha lunghezza compresa tra 5 e 8\")\n",
    "    else:\n",
    "        print (f\"{name}: NON soddisfa la richiesta\") "
   ]
  },
  {
   "cell_type": "code",
   "execution_count": 4,
   "id": "4f4d335a-183a-451c-8cf3-2c6222e09fc3",
   "metadata": {},
   "outputs": [
    {
     "name": "stdout",
     "output_type": "stream",
     "text": [
      "31536000 Secondi anni in un anno NON bisestile\n"
     ]
    }
   ],
   "source": [
    "#Calcolare e stampare a video quanti secondi ci sono in un anno non bisestile\n",
    "secondi_giorno= 24*3600\n",
    "secondi_anno= secondi_giorno *365\n",
    "\n",
    "print(f\"{secondi_anno} Secondi anni in un anno NON bisestile\")"
   ]
  },
  {
   "cell_type": "code",
   "execution_count": 30,
   "id": "c06ba44d-756c-4525-babd-4f4e0fe04933",
   "metadata": {},
   "outputs": [
    {
     "name": "stdout",
     "output_type": "stream",
     "text": [
      "I AM STUDYING PYTHON\n",
      "i am studying python\n",
      "I am studying a lot\n",
      "I am studying Python\n"
     ]
    }
   ],
   "source": [
    "#Trasformarla in modo che tutti i caratteri siano maiuscoli (uppercase) \n",
    "#• Trasformarla in modo che tutti i caratteri siano minuscoli (lowercase) \n",
    "#• Sostituire la sottostringa \"Python\" con la stringa \"a lot\" \n",
    "#• Usare il metodo .strip(); cambia qualcosa? Perché?\n",
    "\n",
    "my_string=\"I am studying Python\"\n",
    "my_string_upper = my_string.upper()          \n",
    "my_string_lower = my_string.lower()          \n",
    "my_string_replaced = my_string.replace(\"Python\", \"a lot\")\n",
    "\n",
    "print(my_string_upper)   \n",
    "print(my_string_lower)\n",
    "print(my_string_replaced)\n",
    "\n",
    "my_string_stripped = my_string.strip()\n",
    "print(my_string_stripped) #non cambia nulla, perchè strip elimina gli spazi in più nella frase, ma in quella originale non erano presenti\n"
   ]
  },
  {
   "cell_type": "code",
   "execution_count": null,
   "id": "67e5fc22-d839-4122-9031-764d30b0fcd2",
   "metadata": {},
   "outputs": [],
   "source": []
  }
 ],
 "metadata": {
  "kernelspec": {
   "display_name": "Python 3 (ipykernel)",
   "language": "python",
   "name": "python3"
  },
  "language_info": {
   "codemirror_mode": {
    "name": "ipython",
    "version": 3
   },
   "file_extension": ".py",
   "mimetype": "text/x-python",
   "name": "python",
   "nbconvert_exporter": "python",
   "pygments_lexer": "ipython3",
   "version": "3.11.7"
  }
 },
 "nbformat": 4,
 "nbformat_minor": 5
}
