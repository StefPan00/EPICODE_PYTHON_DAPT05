{
 "cells": [
  {
   "cell_type": "code",
   "execution_count": 14,
   "id": "fced5067-a919-4101-9084-1836d6bd9418",
   "metadata": {},
   "outputs": [
    {
     "name": "stdout",
     "output_type": "stream",
     "text": [
      "E\n",
      "p\n",
      "i\n",
      "c\n",
      "o\n",
      "d\n",
      "e\n"
     ]
    }
   ],
   "source": [
    "#1nome_scuola = \"Epicode\" Stampare ogni carattere della stringa, uno su ogni riga, utilizzando un costrutto while\n",
    "nome_scuola=\"Epicode\" \n",
    "i=0\n",
    "while i < len(nome_scuola):\n",
    "    print(nome_scuola[i])\n",
    "    i += 1"
   ]
  },
  {
   "cell_type": "code",
   "execution_count": 9,
   "id": "d2c0492f-5451-48ad-ae5e-dbab407fe89f",
   "metadata": {},
   "outputs": [
    {
     "name": "stdout",
     "output_type": "stream",
     "text": [
      "0\n",
      "1\n",
      "2\n",
      "3\n",
      "4\n",
      "5\n",
      "6\n",
      "7\n",
      "8\n",
      "9\n",
      "10\n",
      "11\n",
      "12\n",
      "13\n",
      "14\n",
      "15\n",
      "16\n",
      "17\n",
      "18\n",
      "19\n",
      "20\n"
     ]
    }
   ],
   "source": [
    "# 2 Stampare a video tutti i numeri da 0 a 20 utilizzando il costrutto while. Utilizzeremo: \n",
    "#• un ciclo while \n",
    "#• la funzione print() \n",
    "#• una variabile, che dovrà essere inizializzata \n",
    "#• una procedura di incremento\n",
    "\n",
    "numero =0\n",
    "while numero<=20:\n",
    "    print(numero)\n",
    "    numero+=1"
   ]
  },
  {
   "cell_type": "code",
   "execution_count": 3,
   "id": "952fdb88-6cf3-4155-a979-d306fb8c6df3",
   "metadata": {},
   "outputs": [
    {
     "name": "stdout",
     "output_type": "stream",
     "text": [
      "1\n",
      "2\n",
      "4\n",
      "8\n",
      "16\n",
      "32\n",
      "64\n",
      "128\n",
      "256\n",
      "512\n"
     ]
    }
   ],
   "source": [
    "#3 Calcolare e stampare tutte le prime 10 potenze di 2 (e.g., 2⁰, 2¹, 2², …) utilizzando un ciclo while.\n",
    "esponente=0\n",
    "while esponente < 10:\n",
    "    print(2**esponente)\n",
    "    esponente+=1"
   ]
  },
  {
   "cell_type": "code",
   "execution_count": 4,
   "id": "00361bbc-f06c-4e2b-bc66-e1816238fc94",
   "metadata": {},
   "outputs": [
    {
     "name": "stdin",
     "output_type": "stream",
     "text": [
      "Inserisci il numero di potenze di 2 da calcolare: 2\n"
     ]
    },
    {
     "name": "stdout",
     "output_type": "stream",
     "text": [
      "1\n",
      "2\n"
     ]
    }
   ],
   "source": [
    "#4 Calcolare e stampare tutte le prime N potenze di 2 utilizzando un ciclo while, domandando all'utente di inserire N.\n",
    "N=int(input(\"Inserisci il numero di potenze di 2 da calcolare:\"))\n",
    "esponente=0\n",
    "while esponente <N:\n",
    "    print(2 ** esponente)\n",
    "    esponente+=1"
   ]
  },
  {
   "cell_type": "code",
   "execution_count": 5,
   "id": "68ffe29a-9f18-4c0e-899c-7695814fcf81",
   "metadata": {},
   "outputs": [
    {
     "name": "stdout",
     "output_type": "stream",
     "text": [
      "1\n",
      "2\n",
      "4\n",
      "8\n",
      "16\n",
      "32\n",
      "64\n",
      "128\n",
      "256\n",
      "512\n",
      "1024\n",
      "2048\n",
      "4096\n",
      "8192\n",
      "16384\n"
     ]
    }
   ],
   "source": [
    "#5 Calcolare e stampare tutte le potenze di 2 minori di 25000.\n",
    "esponente=0\n",
    "risultato=2**esponente\n",
    "\n",
    "while risultato<25000:\n",
    "    print(risultato)\n",
    "    esponente+=1\n",
    "    risultato= 2 ** esponente"
   ]
  },
  {
   "cell_type": "code",
   "execution_count": 6,
   "id": "aa4e3324-37e5-4621-93a5-f6a0f1f809cf",
   "metadata": {},
   "outputs": [
    {
     "name": "stdout",
     "output_type": "stream",
     "text": [
      "Le liste hanno lunghezze diverse.\n"
     ]
    }
   ],
   "source": [
    "#6 Aggiungere i dati mancanti alla lista corsi, sapendo che Emma segue Data Analyst, Faith segue Backend ,Grace segue Frontend ,Henry \n",
    "#segue Cybersecurity. Aggiungeremo i dati mancanti uno alla volta con il metodo per appendere in coda alle liste, \n",
    "#poi verificheremo che sono della stessa lunghezza e se lo sono stamperemo la lista corsi. Se alcuni dati sono già presenti non vanno aggiunti di nuovo\n",
    "\n",
    "studenti = [\"Alex\", \"Bob\", \"Cindy\", \"Dan\", \"Emma\", \"Faith\", \"Grace\", \"Henry\"] \n",
    "corsi = [\"Cybersecurity\", \"Data Analyst\", \"Backend\", \"Frontend\", \"Data Analyst\", \"Backend\"]\n",
    "\n",
    "if \"Data Analyst\" not in corsi:\n",
    "    corsi.append(\"Data Analyst\")\n",
    "if \"Backend\" not in corsi:\n",
    "    corsi.append(\"Backend\")\n",
    "if \"Frontend\" not in corsi:\n",
    "    corsi.append(\"Frontend\")\n",
    "if \"Cybersecurity\" not in corsi:\n",
    "    corsi.append(\"Cybersecurity\")\n",
    "    \n",
    "if len(studenti) == len(corsi):\n",
    "    print(corsi)\n",
    "else:\n",
    "    print(\"Le liste hanno lunghezze diverse.\")\n"
   ]
  },
  {
   "cell_type": "code",
   "execution_count": 7,
   "id": "f3b879b1-fa5e-44c1-a621-6de6b1f0d898",
   "metadata": {},
   "outputs": [
    {
     "name": "stdin",
     "output_type": "stream",
     "text": [
      "L'utente inserisce una stringa: dataanalyst\n"
     ]
    },
    {
     "name": "stdout",
     "output_type": "stream",
     "text": [
      "dat...yst\n"
     ]
    }
   ],
   "source": [
    "#7 Esercizio Scriviamo un programma che chiede in input all'utente una stringa e visualizza i primi 3 caratteri, \n",
    "#seguiti da 3 punti di sospensione e quindi gli ultimi 3 caratteri, similmente all'esercizio della lezione scorsa. \n",
    "#Stavolta facciamo attenzione a tutti i casi particolari, ovvero implementare soluzioni ad hoc per stringhe di lunghezza inferiore a 6 caratteri.\n",
    "\n",
    "stringa=input(\"L'utente inserisce una stringa:\")\n",
    "if len(stringa)<=6:\n",
    "    print(stringa)\n",
    "else:\n",
    "    print(stringa[:3]+\"...\"+stringa[-3:])\n"
   ]
  },
  {
   "cell_type": "code",
   "execution_count": 16,
   "id": "b12551e6-3102-4b6d-930c-198cfc4c52e5",
   "metadata": {},
   "outputs": [
    {
     "name": "stdin",
     "output_type": "stream",
     "text": [
      "Inserisci un numero da fattorizzare:  256\n"
     ]
    },
    {
     "name": "stdout",
     "output_type": "stream",
     "text": [
      "[2, 2, 2, 2, 2, 2, 2, 2]\n"
     ]
    }
   ],
   "source": [
    "#8 Memorizza e stampa tutti i fattori di un numero dato in input. fattorizzazione di un numero\n",
    "numero = int(input(\"Inserisci un numero da fattorizzare: \"))\n",
    "\n",
    "fattori=[]\n",
    "\n",
    "divisore=2\n",
    "\n",
    "while numero>1:\n",
    "    while numero % divisore == 0: # \"%\" restituisce il resto della divisione\n",
    "        fattori.append(divisore)\n",
    "        numero//= divisore\n",
    "    divisore +=1\n",
    "\n",
    "print(fattori)\n"
   ]
  },
  {
   "cell_type": "code",
   "execution_count": 18,
   "id": "d24424f4-5938-476f-9e79-18343f1e7dd1",
   "metadata": {},
   "outputs": [
    {
     "name": "stdout",
     "output_type": "stream",
     "text": [
      "E\n",
      "p\n",
      "i\n",
      "c\n",
      "o\n",
      "d\n",
      "e\n"
     ]
    }
   ],
   "source": [
    "#9 nome_scuola = \"Epicode\" Stampare ogni carattere della stringa, uno su ogni riga, utilizzando un costrutto for.\n",
    "nome_scuola=\"Epicode\"\n",
    "\n",
    "for carattere in nome_scuola:\n",
    "    print(carattere)"
   ]
  },
  {
   "cell_type": "code",
   "execution_count": 22,
   "id": "ba50e17e-ef28-4f23-b921-e83b4377b748",
   "metadata": {},
   "outputs": [
    {
     "name": "stdout",
     "output_type": "stream",
     "text": [
      "[1, 2, 3, 4, 5, 6, 7, 8, 9, 10]\n",
      "2\n",
      "4\n",
      "8\n",
      "16\n",
      "32\n",
      "64\n",
      "128\n",
      "256\n",
      "512\n",
      "1024\n"
     ]
    }
   ],
   "source": [
    "#10  le prime 10 potenze di 2 utilizzando un ciclo\n",
    "\n",
    "range_numerico = list()  # init \n",
    "num = 1  # init \n",
    "while num <= 10: \n",
    "    range_numerico.append(num) \n",
    "    num += 1\n",
    "\n",
    "print(range_numerico)\n",
    "\n",
    "for esponente in range_numerico:\n",
    "    print(2 ** esponente)"
   ]
  },
  {
   "cell_type": "code",
   "execution_count": null,
   "id": "45b0c629-229c-46ba-8da6-c219dc3dd333",
   "metadata": {},
   "outputs": [],
   "source": [
    "# 11 Calcolare (ma non stampare) le prime N potenze di K; ognuna di esse andrà memorizzata in coda a una lista. \n",
    "#Alla fine, stampare la lista risultante. Proviamo con diversi valori di K, oppure facciamola inserire all'utente. sia while che for"
   ]
  },
  {
   "cell_type": "code",
   "execution_count": 24,
   "id": "caad30f8-f984-4be7-ac63-93b419094e9c",
   "metadata": {},
   "outputs": [
    {
     "name": "stdout",
     "output_type": "stream",
     "text": [
      "la media dei guadagni è 70.0\n"
     ]
    }
   ],
   "source": [
    "#12 lista guadagnai, calcola la media\n",
    "guadagni = [100, 90, 70, 40, 50, 80, 90, 120, 80, 20, 50, 50]\n",
    "somma=sum(guadagni)\n",
    "media=somma/len(guadagni)\n",
    "print(F\"la media dei guadagni è\" , media)"
   ]
  },
  {
   "cell_type": "code",
   "execution_count": 27,
   "id": "16c5a3b3-a3a2-4a28-9a85-9485aa9bb178",
   "metadata": {},
   "outputs": [
    {
     "name": "stdout",
     "output_type": "stream",
     "text": [
      "In \"Albergo\" ci sono 1 \"e\".\n",
      "In \"Sedia\" ci sono 1 \"e\".\n",
      "In \"Borgo\" non c'è nessuna \"e\".\n",
      "In \"Petalo\" ci sono 1 \"e\".\n",
      "In \"Eremo\" ci sono 2 \"e\".\n",
      "In \"Belvedere\" ci sono 4 \"e\".\n",
      "In \"Semestre\" ci sono 3 \"e\".\n",
      "In \"Esteta\" ci sono 2 \"e\".\n",
      "In \"Sosta\" non c'è nessuna \"e\".\n",
      "In \"Orpello\" ci sono 1 \"e\".\n",
      "In \"Abete\" ci sono 2 \"e\".\n",
      "In \"Orologio\" non c'è nessuna \"e\".\n",
      "In \"Cesta\" ci sono 1 \"e\".\n",
      "In \"Ermellino\" ci sono 2 \"e\".\n"
     ]
    }
   ],
   "source": [
    "#13 stampiamo, per ogni parola, quante volte appare la lettera \"e\"; facciamo attenzione al fatto che appare sia maiuscola che minuscola.\n",
    "parole = [\"Albergo\", \"Sedia\", \"Borgo\", \"Petalo\", \"Eremo\", \"Belvedere\", \"Semestre\", \"Esteta\", \"Sosta\", \"Orpello\", \"Abete\", \"Orologio\", \"Cesta\", \"Ermellino\"]\n",
    "\n",
    "lettera=\"e\"\n",
    "\n",
    "for parola in parole:\n",
    "    conteggio = parola.lower().count(lettera)\n",
    "    if conteggio > 0:\n",
    "        print(f\"In \\\"{parola}\\\" ci sono {conteggio} \\\"{lettera}\\\".\")\n",
    "    else:\n",
    "        print(f\"In \\\"{parola}\\\" non c'è nessuna \\\"{lettera}\\\".\")"
   ]
  },
  {
   "cell_type": "code",
   "execution_count": 1,
   "id": "1bfe93f3-7120-4c9a-bfe5-d51c19034abe",
   "metadata": {},
   "outputs": [
    {
     "name": "stdout",
     "output_type": "stream",
     "text": [
      "Dizionario completo: {'Ada': 'Punto', 'Ben': 'Multipla', 'Charlie': 'Golf', 'Debbie': '107'}\n",
      "L'auto di Debbie è: 107\n"
     ]
    }
   ],
   "source": [
    "#pagina 16 Creiamo un dizionario che assegni ad ogni proprietario la sua auto, sapendo che: \n",
    "#• Ada guida una Punto \n",
    "#• Ben guida una Multipla \n",
    "#• Charlie guida una Golf \n",
    "#• Debbie guida una 107 \n",
    "#Stampiamo il dizionario per intero, e poi l'auto associata a Debbie.\n",
    "\n",
    "auto_proprietari = {\n",
    "    \"Ada\": \"Punto\",\n",
    "    \"Ben\": \"Multipla\",\n",
    "    \"Charlie\": \"Golf\",\n",
    "    \"Debbie\": \"107\"}\n",
    "\n",
    "print(\"Dizionario completo:\", auto_proprietari)\n",
    "print(\"L'auto di Debbie è:\", auto_proprietari[\"Debbie\"])"
   ]
  },
  {
   "cell_type": "code",
   "execution_count": 4,
   "id": "f9f6f223-b25e-4dad-8db4-fd5835eed94f",
   "metadata": {},
   "outputs": [
    {
     "name": "stdout",
     "output_type": "stream",
     "text": [
      "Punto\n",
      "Golf\n",
      "107\n"
     ]
    }
   ],
   "source": [
    "# Con un ciclo, e usando il metodo .values(), stampiamo a video tutte le auto che non sono una Multipla.\n",
    "for auto in auto_proprietari.values():\n",
    "    if auto !=\"Multipla\":\n",
    "        print(auto)\n",
    "    "
   ]
  },
  {
   "cell_type": "code",
   "execution_count": 5,
   "id": "b9312dfe-9852-4eec-a330-a3f658132126",
   "metadata": {},
   "outputs": [
    {
     "name": "stdout",
     "output_type": "stream",
     "text": [
      "{'Ada': 'Punto', 'Ben': 'Polo', 'Charlie': 'Golf', 'Debbie': '107', 'Emily': 'A1', 'Fred': 'Octavia', 'Grace': 'Yaris', 'Hugh': 'Clio'}\n"
     ]
    }
   ],
   "source": [
    "# Abbiamo due dizionari che assegnano ad ogni proprietario la propria auto:\n",
    "# Aggiornare il dizionario dizionario_auto con i dati contenuti in nuovi_proprietari e stamparlo. Cosa è successo a Ben?\n",
    "\n",
    "dizionario_auto = {\"Ada\": \"Punto\", \"Ben\": \"Multipla\", \"Charlie\": \"Golf\", \"Debbie\": \"107\", \"Emily\": \"A1\"} \n",
    "nuovi_proprietari = {\"Ben\": \"Polo\", \"Fred\": \"Octavia\", \"Grace\": \"Yaris\", \"Hugh\": \"Clio\"}\n",
    "\n",
    "dizionario_auto.update(nuovi_proprietari)\n",
    "print(dizionario_auto)\n",
    "\n"
   ]
  },
  {
   "cell_type": "code",
   "execution_count": null,
   "id": "f03db3a5-4b69-4ddc-afed-5683b40cab02",
   "metadata": {},
   "outputs": [],
   "source": [
    "# Osservando la sintassi dei dizionari, possiamo notare qualche affinità con il formato JSON?"
   ]
  },
  {
   "cell_type": "code",
   "execution_count": 16,
   "id": "5b71a60a-35f6-475c-87a8-1a508c386f58",
   "metadata": {},
   "outputs": [
    {
     "name": "stdout",
     "output_type": "stream",
     "text": [
      "lista_numeri: [2, 5, 8, 8, 11, 4, 3, 6]\n",
      "il minimo della lista numeri è: 2\n",
      "il massimo della lista numeri è: 11\n"
     ]
    }
   ],
   "source": [
    "# Scrivere un programma che, data una lista di numeri, fornisca in output il minimo e il massimo \n",
    "#(possiamo usare o meno le funzioni built-in min() e max()).\n",
    "\n",
    "lista_numeri=[2,5,8,8,11,4,3,6]\n",
    "\n",
    "minimo=lista_numeri[0]\n",
    "massimo=lista_numeri[0]\n",
    "\n",
    "for numero in lista_numeri:\n",
    "    if numero < minimo:\n",
    "        minimo=numero\n",
    "    if numero > massimo:\n",
    "        massimo=numero\n",
    "\n",
    "print(\"lista_numeri:\", lista_numeri)\n",
    "print(\"il minimo della lista numeri è:\", minimo)\n",
    "print(\"il massimo della lista numeri è:\", massimo)\n",
    "    "
   ]
  },
  {
   "cell_type": "code",
   "execution_count": 17,
   "id": "2c80b8b7-ff92-4d10-a258-6caa92a8ee87",
   "metadata": {},
   "outputs": [
    {
     "name": "stdout",
     "output_type": "stream",
     "text": [
      "lista_numeri: [2, 5, 8, 8, 11, 4, 3, 6]\n",
      "il minimo della lista numeri è: 2\n",
      "il massimo della lista numeri è: 11\n"
     ]
    }
   ],
   "source": [
    "lista_numeri=[2,5,8,8,11,4,3,6]\n",
    "\n",
    "minimo=min(lista_numeri)\n",
    "massimo=max(lista_numeri)\n",
    "\n",
    "print(\"lista_numeri:\", lista_numeri)\n",
    "print(\"il minimo della lista numeri è:\", minimo)\n",
    "print(\"il massimo della lista numeri è:\", massimo)"
   ]
  },
  {
   "cell_type": "code",
   "execution_count": 1,
   "id": "ade16c17-0526-404a-a44d-f1a7445195fe",
   "metadata": {},
   "outputs": [
    {
     "name": "stdout",
     "output_type": "stream",
     "text": [
      "[855, 685, 562]\n",
      "[2, 1]\n",
      "La lista è vuota, non ci sono numeri da restituire.\n",
      "[5]\n"
     ]
    }
   ],
   "source": [
    "# Scrivere un programma che, data una lista di numeri, fornisca in output i tre numeri più grandi; gestire il caso in cui la \n",
    "#lista sia più corta di tre, e quando uno o più dei numeri selezionati sono uguali.\n",
    "\n",
    "lista_numeri=[542,58,65,1,685,562,52,8,855]\n",
    "def tre_numeri_massimi(lista):\n",
    "    if not lista:\n",
    "        return \"La lista è vuota, non ci sono numeri da restituire.\"\n",
    "    numeri_unici = sorted(set(lista), reverse=True)\n",
    "    if len(numeri_unici) >= 3:\n",
    "        return numeri_unici[:3]\n",
    "    else:\n",
    "        return numeri_unici\n",
    "\n",
    "# Esempi di utilizzo\n",
    "print(tre_numeri_massimi(lista_numeri))  \n",
    "print(tre_numeri_massimi([1, 2]))               \n",
    "print(tre_numeri_massimi([]))   \n",
    "print(tre_numeri_massimi([5, 5, 5, 5])) "
   ]
  },
  {
   "cell_type": "code",
   "execution_count": 4,
   "id": "f9b95f5c-7681-4f70-872d-e35f06969c2f",
   "metadata": {},
   "outputs": [
    {
     "name": "stdout",
     "output_type": "stream",
     "text": [
      "La media dei numeri maggiori o uguali a 10 nella lista è: 50.6\n"
     ]
    }
   ],
   "source": [
    "#Scrivere un programma che • in input acquisisce una lista di numeri e un numero K \n",
    "#• in output, dovrà restituire la media di tutti i numeri nella lista maggiori o uguali a K \n",
    "#• se non ce ne dovesse essere nessuno, dovrà stampare a schermo un messaggio adeguato.\n",
    "\n",
    "def media_numerik (lista, k):\n",
    "    lista_num_minorik= [num for num in lista if num>=k]\n",
    "    if not lista_num_minorik:\n",
    "        return f\"Nessun numero nella lista è maggiore o uguale a {k}\"\n",
    "    media =sum(lista_num_minorik)/len(lista_num_minorik)\n",
    "    return f\"La media dei numeri maggiori o uguali a {k} nella lista è: {media}\"\n",
    "\n",
    "#prova codice \n",
    "lista_numerik=[4,6,8,5,85,96,5,7,45,12,15]\n",
    "print(media_numerik (lista_numerik, 10))"
   ]
  },
  {
   "cell_type": "code",
   "execution_count": 5,
   "id": "5d9fefc1-045a-49a8-9f37-37e389b30d00",
   "metadata": {},
   "outputs": [
    {
     "name": "stdout",
     "output_type": "stream",
     "text": [
      "*****\n",
      "**\n",
      "***\n",
      "****\n"
     ]
    }
   ],
   "source": [
    "#Scrivere un programma che, data una lista di numeri, come output stamperà lo stesso numero di asterischi su righe diverse, \n",
    "#ottenendo una semplice visualizzazione grafica\n",
    "\n",
    "def asterischi(lista):\n",
    "    for numero in lista:\n",
    "        print ('*' * numero)\n",
    "\n",
    "#prova \n",
    "numeri = [5, 2, 3, 4]\n",
    "asterischi(numeri)"
   ]
  },
  {
   "cell_type": "code",
   "execution_count": 11,
   "id": "de1b3798-ba03-4baa-bb7d-f4be23de593e",
   "metadata": {},
   "outputs": [
    {
     "name": "stdout",
     "output_type": "stream",
     "text": [
      "cf_con_95: ['ABCDEF95G01A123B', 'STUVWX95Z04A654E', 'DEFGHI95J06A987G']\n",
      "codice fiscale: ABCDEF95G01A123B\n",
      "cognome:ABC\n",
      "nome:DEF\n",
      "codice fiscale: STUVWX95Z04A654E\n",
      "cognome:STU\n",
      "nome:VWX\n",
      "codice fiscale: DEFGHI95J06A987G\n",
      "cognome:DEF\n",
      "nome:GHI\n"
     ]
    }
   ],
   "source": [
    "lista_cf = [\"ABCDEF95G01A123B\", \"GHIJKL91M02A321C\", \"MNOPQR89S03A456D\", \"STUVWX95Z04A654E\", \"XYZABC01D05A789F\", \"DEFGHI95J06A987G\"]\n",
    "\n",
    "def analisi_cf(lista_cf):\n",
    "    cf_95 =[cf for cf in lista_cf if '95' in cf]\n",
    "    print(\"cf_con_95:\",cf_95)\n",
    "    return cf_95\n",
    "\n",
    "cf_95=analisi_cf(lista_cf)\n",
    "\n",
    "for cf in cf_95:\n",
    "    cognome =cf[:3]\n",
    "    nome= cf[3:6]\n",
    "    print (f\"codice fiscale: {cf}\")\n",
    "    print (f\"cognome:{cognome}\")\n",
    "    print (f\"nome:{nome}\")"
   ]
  },
  {
   "cell_type": "code",
   "execution_count": 13,
   "id": "af56765c-a642-4845-b645-654868b95078",
   "metadata": {},
   "outputs": [
    {
     "name": "stdout",
     "output_type": "stream",
     "text": [
      "['Alex', 'Faith']\n"
     ]
    }
   ],
   "source": [
    "# Stampare a video tutti e soli gli studenti che frequentano una prima edizione; non tutti i dati potrebbero essere necessari.\n",
    "studenti = [\"Alex\", \"Bob\", \"Cindy\", \"Dan\", \"Emma\", \"Faith\", \"Grace\", \"Henry\"] \n",
    "corsi = [\"Cybersecurity\", \"Data Analyst\", \"Backend\", \"Frontend\", \"Data Analyst\", \"Backend\", \"Frontend\", \"Cybersecurity\"] \n",
    "edizioni = [1, 2, 3, 2, 2, 1, 3, 3]\n",
    "\n",
    "def filtro_prima_edizione(studenti, edizioni):\n",
    "    return [studenti[i] for i in range(len(edizioni)) if edizioni[i]==1]\n",
    "\n",
    "print(filtro_prima_edizione(studenti,edizioni))"
   ]
  },
  {
   "cell_type": "code",
   "execution_count": 15,
   "id": "1247e84b-0d64-4b3e-9ffd-5478aa3d5b73",
   "metadata": {},
   "outputs": [
    {
     "name": "stdout",
     "output_type": "stream",
     "text": [
      "['100 $', '200 $', '500 $', '10 $', '50 $', '70 $']\n"
     ]
    }
   ],
   "source": [
    "#cambiare il simbolo dell'euro con quello del dollaro e memorizzare in un'altra lista\n",
    "prezzi = [\"100 €\", \"200 €\", \"500 €\", \"10 €\", \"50 €\", \"70 €\"]\n",
    "\n",
    "prezzi_dollaro =[prezzo.replace(\"€\", \"$\") for prezzo in prezzi]\n",
    "print(prezzi_dollaro)"
   ]
  },
  {
   "cell_type": "code",
   "execution_count": 17,
   "id": "2aabaa89-8b99-4f16-86c2-0be64c2c8d1b",
   "metadata": {},
   "outputs": [
    {
     "name": "stdout",
     "output_type": "stream",
     "text": [
      "['Alex', 'Cindy', 'Emma', 'Grace', 'Isabelle']\n",
      "['Bob', 'Dan', 'Faith', 'Henry', 'John']\n"
     ]
    }
   ],
   "source": [
    "# Abbiamo una lista di studenti vogliamo dividere gli studenti in due squadre per un campionato di Uno nel seguente modo: \n",
    "#selezioneremo i nomi in posizione pari per un squadra, e i nomi in posizione dispari per l'altra. \n",
    "#Creiamo due liste per ogni squadra, e alla fine visualizziamole.\n",
    "\n",
    "studenti = [\"Alex\", \"Bob\", \"Cindy\", \"Dan\", \"Emma\", \"Faith\", \"Grace\", \"Henry\", \"Isabelle\", \"John\"]\n",
    "\n",
    "squadra1= [studenti[i] for i in range(len(studenti)) if i% 2 ==0]\n",
    "print(squadra1)\n",
    "squadra2= [studenti[i] for i in range(len(studenti)) if i% 2 !=0]\n",
    "print(squadra2)\n"
   ]
  },
  {
   "cell_type": "code",
   "execution_count": 21,
   "id": "5336a882-17f9-43e8-b848-f3acfe6cd2e7",
   "metadata": {},
   "outputs": [
    {
     "name": "stdout",
     "output_type": "stream",
     "text": [
      "Mese 2: Guadagno 90€ (Media precedenti: 100.00€) - Guadagno minore della media precedente\n",
      "Mese 3: Guadagno 70€ (Media precedenti: 95.00€) - Guadagno minore della media precedente\n",
      "Mese 4: Guadagno 40€ (Media precedenti: 86.67€) - Guadagno minore della media precedente\n",
      "Mese 5: Guadagno 50€ (Media precedenti: 75.00€) - Guadagno minore della media precedente\n",
      "Mese 6: Guadagno 80€ (Media precedenti: 70.00€) - Guadagno MAGGIORE della media precedente\n",
      "Mese 7: Guadagno 90€ (Media precedenti: 71.67€) - Guadagno MAGGIORE della media precedente\n",
      "Mese 8: Guadagno 120€ (Media precedenti: 74.29€) - Guadagno MAGGIORE della media precedente\n",
      "Mese 9: Guadagno 80€ (Media precedenti: 80.00€) - Guadagno uguale della media precedente\n",
      "Mese 10: Guadagno 20€ (Media precedenti: 80.00€) - Guadagno minore della media precedente\n",
      "Mese 11: Guadagno 50€ (Media precedenti: 74.00€) - Guadagno minore della media precedente\n",
      "Mese 12: Guadagno 50€ (Media precedenti: 71.82€) - Guadagno minore della media precedente\n"
     ]
    }
   ],
   "source": [
    "#stampare a video i guadagni di ogni mese cone la media dei guadagni precedenti e specificare \n",
    "#l'output se il guadagno attuale è maggiore o minore della media dei precedenti\n",
    "\n",
    "guadagni = [100, 90, 70, 40, 50, 80, 90, 120, 80, 20, 50, 50]\n",
    "for i in range(1,len(guadagni)):\n",
    "    guadagni_precedenti= guadagni[:i]\n",
    "    media_precedenti =sum(guadagni_precedenti)/len(guadagni_precedenti)\n",
    "    \n",
    "    guadagno_attuale=guadagni[i]\n",
    "    if guadagno_attuale > media_precedenti:\n",
    "        risultato = \"MAGGIORE\"\n",
    "    elif guadagno_attuale < media_precedenti:\n",
    "        risultato = \"minore\"\n",
    "    else:\n",
    "        risultato = \"uguale\"\n",
    "        \n",
    "    print(f\"Mese {i+1}: Guadagno {guadagno_attuale}€ (Media precedenti: {media_precedenti:.2f}€) - Guadagno {risultato} della media precedente\")"
   ]
  },
  {
   "cell_type": "code",
   "execution_count": null,
   "id": "948cea99-0f0a-4dba-bf1a-8c60e835bfca",
   "metadata": {},
   "outputs": [],
   "source": []
  }
 ],
 "metadata": {
  "kernelspec": {
   "display_name": "Python 3 (ipykernel)",
   "language": "python",
   "name": "python3"
  },
  "language_info": {
   "codemirror_mode": {
    "name": "ipython",
    "version": 3
   },
   "file_extension": ".py",
   "mimetype": "text/x-python",
   "name": "python",
   "nbconvert_exporter": "python",
   "pygments_lexer": "ipython3",
   "version": "3.11.7"
  }
 },
 "nbformat": 4,
 "nbformat_minor": 5
}
